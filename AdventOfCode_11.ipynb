{
 "cells": [
  {
   "cell_type": "markdown",
   "metadata": {},
   "source": [
    "# Day 11\n",
    "\n",
    "## Data"
   ]
  },
  {
   "cell_type": "code",
   "execution_count": 1,
   "metadata": {},
   "outputs": [],
   "source": [
    "puzzleData = \"\"\"2682551651\n",
    "3223134263\n",
    "5848471412\n",
    "7438334862\n",
    "8731321573\n",
    "6415233574\n",
    "5564726843\n",
    "6683456445\n",
    "8582346112\n",
    "4617588236\"\"\""
   ]
  },
  {
   "cell_type": "code",
   "execution_count": 2,
   "metadata": {},
   "outputs": [],
   "source": [
    "testData = \"\"\"5483143223\n",
    "2745854711\n",
    "5264556173\n",
    "6141336146\n",
    "6357385478\n",
    "4167524645\n",
    "2176841721\n",
    "6882881134\n",
    "4846848554\n",
    "5283751526\"\"\""
   ]
  },
  {
   "cell_type": "markdown",
   "metadata": {},
   "source": [
    "## Parse Data"
   ]
  },
  {
   "cell_type": "code",
   "execution_count": 4,
   "metadata": {},
   "outputs": [],
   "source": [
    "from timeit import default_timer as timer\n",
    "\n",
    "def parseData(data):\n",
    "    start = timer()\n",
    "    parsedData = [parseLine(line) for line in data.splitlines()]\n",
    "    end = timer()\n",
    "    print(\"parse time: \"+\"{:10.7f}\".format(end-start))\n",
    "    return parsedData\n",
    "\n",
    "def parseLine(line):\n",
    "    return [int(char) for char in line]"
   ]
  },
  {
   "cell_type": "markdown",
   "metadata": {},
   "source": [
    "## Part 1"
   ]
  },
  {
   "cell_type": "code",
   "execution_count": 5,
   "metadata": {},
   "outputs": [],
   "source": [
    "def countFlashes(data, steps):\n",
    "    start = timer()\n",
    "    octopuses = parseData(data)\n",
    "    totalFlashes = 0\n",
    "    for i in range(steps):\n",
    "        octopuses, flashed = runStep(octopuses)\n",
    "        totalFlashes += flashed\n",
    "    end = timer()\n",
    "    print(\"run time: \"+\"{:10.7f}\".format(end-start))\n",
    "    print(totalFlashes)\n",
    "\n",
    "def runStep(octopuses):\n",
    "    octopuses = [[octopus+1 for octopus in line] for line in octopuses]\n",
    "    \n",
    "    flashed = []\n",
    "    toFlash = aboveNine(octopuses)\n",
    "    while len(toFlash) > 0:\n",
    "        octopuses = flash(octopuses, toFlash)\n",
    "        flashed += toFlash\n",
    "        toFlash = [octopus for octopus in aboveNine(octopuses) if octopus not in flashed]        \n",
    "    octopuses = resetFlashed(octopuses, flashed)\n",
    "    return octopuses, len(flashed)\n",
    "\n",
    "def aboveNine(octopuses):\n",
    "    aboveNine = []\n",
    "    for y in range(len(octopuses)):\n",
    "        for x in range(len(octopuses[y])):\n",
    "            if octopuses[y][x] > 9:\n",
    "                aboveNine.append((y,x))\n",
    "    return aboveNine\n",
    "   \n",
    "def flash(octopuses, toFlash):\n",
    "    for coord in toFlash:\n",
    "        for y in range(coord[0]-1,coord[0]+2):\n",
    "            if y >= 0 and y < len(octopuses):\n",
    "                for x in range(coord[1]-1,coord[1]+2):\n",
    "                    if x >= 0 and x < len(octopuses[y]):\n",
    "                        octopuses[y][x] += 1\n",
    "    return octopuses\n",
    "\n",
    "def resetFlashed(octopuses, flashed):\n",
    "    for coord in flashed:\n",
    "        octopuses[coord[0]][coord[1]] = 0\n",
    "    return octopuses"
   ]
  },
  {
   "cell_type": "code",
   "execution_count": 6,
   "metadata": {},
   "outputs": [
    {
     "name": "stdout",
     "output_type": "stream",
     "text": [
      "parse time:  0.0000454\n",
      "run time:  0.0671417\n",
      "1656\n"
     ]
    }
   ],
   "source": [
    "countFlashes(testData, 100)"
   ]
  },
  {
   "cell_type": "code",
   "execution_count": 7,
   "metadata": {},
   "outputs": [
    {
     "name": "stdout",
     "output_type": "stream",
     "text": [
      "parse time:  0.0000753\n",
      "run time:  0.0594195\n",
      "1594\n"
     ]
    }
   ],
   "source": [
    "countFlashes(puzzleData, 100)"
   ]
  },
  {
   "cell_type": "markdown",
   "metadata": {},
   "source": [
    "## Part 2"
   ]
  },
  {
   "cell_type": "code",
   "execution_count": 8,
   "metadata": {},
   "outputs": [],
   "source": [
    "def findFirstAllFlash(data):\n",
    "    start = timer()\n",
    "    octopuses = parseData(data)\n",
    "    flashCount = 0\n",
    "    steps = 0\n",
    "    while flashCount != 100:\n",
    "        octopuses, flashCount = runStep(octopuses)\n",
    "        steps += 1\n",
    "    end = timer()\n",
    "    print(\"run time: \"+\"{:10.7f}\".format(end-start))\n",
    "    print(steps)"
   ]
  },
  {
   "cell_type": "code",
   "execution_count": 9,
   "metadata": {},
   "outputs": [
    {
     "name": "stdout",
     "output_type": "stream",
     "text": [
      "parse time:  0.0000439\n",
      "run time:  0.1220399\n",
      "195\n"
     ]
    }
   ],
   "source": [
    "findFirstAllFlash(testData)"
   ]
  },
  {
   "cell_type": "code",
   "execution_count": 10,
   "metadata": {},
   "outputs": [
    {
     "name": "stdout",
     "output_type": "stream",
     "text": [
      "parse time:  0.0000430\n",
      "run time:  0.2384715\n",
      "437\n"
     ]
    }
   ],
   "source": [
    "findFirstAllFlash(puzzleData)"
   ]
  }
 ],
 "metadata": {
  "kernelspec": {
   "display_name": "Python 3",
   "language": "python",
   "name": "python3"
  },
  "language_info": {
   "codemirror_mode": {
    "name": "ipython",
    "version": 3
   },
   "file_extension": ".py",
   "mimetype": "text/x-python",
   "name": "python",
   "nbconvert_exporter": "python",
   "pygments_lexer": "ipython3",
   "version": "3.7.2"
  }
 },
 "nbformat": 4,
 "nbformat_minor": 4
}
