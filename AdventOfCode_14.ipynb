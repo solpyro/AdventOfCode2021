{
 "cells": [
  {
   "cell_type": "markdown",
   "metadata": {},
   "source": [
    "# Day 14: Extended Polymerization\n",
    "\n",
    "## Data"
   ]
  },
  {
   "cell_type": "code",
   "execution_count": 3,
   "metadata": {},
   "outputs": [],
   "source": [
    "puzzleData = \"\"\"FSKBVOSKPCPPHVOPVFPC\n",
    "\n",
    "BV -> O\n",
    "OS -> P\n",
    "KP -> P\n",
    "VK -> S\n",
    "FS -> C\n",
    "OK -> P\n",
    "KC -> S\n",
    "HV -> F\n",
    "HC -> K\n",
    "PF -> N\n",
    "NK -> F\n",
    "SC -> V\n",
    "CO -> K\n",
    "PO -> F\n",
    "FB -> P\n",
    "CN -> K\n",
    "KF -> N\n",
    "NH -> S\n",
    "SF -> P\n",
    "HP -> P\n",
    "NP -> F\n",
    "OV -> O\n",
    "OP -> P\n",
    "HH -> C\n",
    "FP -> P\n",
    "CS -> O\n",
    "SK -> O\n",
    "NS -> F\n",
    "SN -> S\n",
    "SP -> H\n",
    "BH -> B\n",
    "NO -> O\n",
    "CB -> N\n",
    "FO -> N\n",
    "NC -> C\n",
    "VF -> N\n",
    "CK -> C\n",
    "PC -> H\n",
    "BP -> B\n",
    "NF -> O\n",
    "BB -> C\n",
    "VN -> K\n",
    "OH -> K\n",
    "CH -> F\n",
    "VB -> N\n",
    "HO -> P\n",
    "FH -> K\n",
    "PK -> H\n",
    "CC -> B\n",
    "VH -> B\n",
    "BF -> N\n",
    "KS -> V\n",
    "PV -> B\n",
    "CP -> N\n",
    "PB -> S\n",
    "VP -> V\n",
    "BO -> B\n",
    "HS -> H\n",
    "BS -> F\n",
    "ON -> B\n",
    "HB -> K\n",
    "KH -> B\n",
    "PP -> H\n",
    "BN -> C\n",
    "BC -> F\n",
    "KV -> K\n",
    "VO -> P\n",
    "SO -> V\n",
    "OF -> O\n",
    "BK -> S\n",
    "PH -> V\n",
    "SV -> F\n",
    "CV -> H\n",
    "OB -> N\n",
    "SS -> H\n",
    "VV -> B\n",
    "OO -> V\n",
    "CF -> H\n",
    "KB -> F\n",
    "NV -> B\n",
    "FV -> V\n",
    "HK -> P\n",
    "VS -> P\n",
    "FF -> P\n",
    "HN -> N\n",
    "FN -> F\n",
    "OC -> K\n",
    "SH -> V\n",
    "KO -> C\n",
    "HF -> B\n",
    "PN -> N\n",
    "SB -> F\n",
    "VC -> B\n",
    "FK -> S\n",
    "KK -> N\n",
    "FC -> F\n",
    "NN -> P\n",
    "NB -> V\n",
    "PS -> S\n",
    "KN -> S\"\"\""
   ]
  },
  {
   "cell_type": "code",
   "execution_count": 4,
   "metadata": {},
   "outputs": [],
   "source": [
    "testData = \"\"\"NNCB\n",
    "\n",
    "CH -> B\n",
    "HH -> N\n",
    "CB -> H\n",
    "NH -> C\n",
    "HB -> C\n",
    "HC -> B\n",
    "HN -> C\n",
    "NN -> C\n",
    "BH -> H\n",
    "NC -> B\n",
    "NB -> B\n",
    "BN -> B\n",
    "BB -> N\n",
    "BC -> B\n",
    "CC -> N\n",
    "CN -> C\"\"\""
   ]
  },
  {
   "cell_type": "markdown",
   "metadata": {},
   "source": [
    "## Parse data"
   ]
  },
  {
   "cell_type": "code",
   "execution_count": 5,
   "metadata": {},
   "outputs": [],
   "source": [
    "from timeit import default_timer as timer\n",
    "\n",
    "def parseData(data):\n",
    "    start = timer()\n",
    "    lines = data.splitlines()\n",
    "    seed = lines[0]\n",
    "    rules = dict([parseRule(line) for line in lines[2:]])\n",
    "    end = timer()\n",
    "    print(\"parse time: \"+\"{:10.7f}\".format(end-start))\n",
    "    return rules, seed\n",
    "\n",
    "def parseRule(rule):\n",
    "    parts = rule.split(' -> ')\n",
    "    return parts[0], parts[1]"
   ]
  },
  {
   "cell_type": "markdown",
   "metadata": {},
   "source": [
    "## Part 1"
   ]
  },
  {
   "cell_type": "code",
   "execution_count": 53,
   "metadata": {},
   "outputs": [],
   "source": [
    "import sys\n",
    "\n",
    "def applyRulesIteratively(data,times):\n",
    "    rules, seed = parseData(data)\n",
    "    start = timer()\n",
    "    for i in range(times):\n",
    "        seed = applyRules(seed, rules)\n",
    "    letterCounts = countLetters(seed)\n",
    "    highCount, lowCount = findMostAndLeastLetter(letterCounts)\n",
    "    end = timer()\n",
    "    print(\"run time: \"+\"{:10.7f}\".format(end-start))\n",
    "    print(highCount-lowCount)\n",
    "    \n",
    "def applyRules(seed, rules):\n",
    "    newSeed = ''\n",
    "    for i in range(len(seed)-1):\n",
    "        newChar = rules[seed[i:i+2]]\n",
    "        newSeed += seed[i] + newChar\n",
    "    newSeed += seed[-1]\n",
    "    return newSeed\n",
    "    \n",
    "def countLetters(letters):\n",
    "    totals = {}\n",
    "    for letter in letters:\n",
    "        if letter not in totals.keys():\n",
    "            totals[letter] = 1\n",
    "        else:\n",
    "            totals[letter] += 1\n",
    "    return totals\n",
    "    \n",
    "def findMostAndLeastLetter(letterCount):\n",
    "    most = 0\n",
    "    least = float('inf')\n",
    "    for val in letterCount.values():\n",
    "        if val > most:\n",
    "            most = val\n",
    "        if val < least:\n",
    "            least = val\n",
    "    return most, least"
   ]
  },
  {
   "cell_type": "code",
   "execution_count": 48,
   "metadata": {},
   "outputs": [
    {
     "name": "stdout",
     "output_type": "stream",
     "text": [
      "parse time:  0.0000303\n",
      "run time:  0.0028004\n",
      "1588\n"
     ]
    }
   ],
   "source": [
    "applyRulesIteratively(testData,10)"
   ]
  },
  {
   "cell_type": "code",
   "execution_count": 49,
   "metadata": {},
   "outputs": [
    {
     "name": "stdout",
     "output_type": "stream",
     "text": [
      "parse time:  0.0001536\n",
      "run time:  0.0171752\n",
      "2360\n"
     ]
    }
   ],
   "source": [
    "applyRulesIteratively(puzzleData,10)"
   ]
  },
  {
   "cell_type": "markdown",
   "metadata": {},
   "source": [
    "## Part 2"
   ]
  },
  {
   "cell_type": "code",
   "execution_count": 54,
   "metadata": {},
   "outputs": [],
   "source": [
    "from collections import defaultdict\n",
    "\n",
    "def applyRulesEfficiently(data,times):\n",
    "    rules, seed = parseData(data)\n",
    "    start = timer()\n",
    "    pairs = calculatePairs(seed, rules, times)\n",
    "    letterCounts = countLetters(pairs, seed)\n",
    "    highCount, lowCount = findMostAndLeastLetter(letterCounts)\n",
    "    end = timer()\n",
    "    print(\"run time: \"+\"{:10.7f}\".format(end-start))\n",
    "    print(highCount-lowCount)\n",
    "\n",
    "def calculatePairs(seed, rules, times):\n",
    "    pairs = {k: 0 for k in rules.keys()}\n",
    "    for i in range(len(seed)-1):\n",
    "        pairs[seed[i:i+2]] += 1\n",
    "    for _ in range(times):\n",
    "        for k, v in [[k, v] for k, v in pairs.items() if v > 0]:\n",
    "            pairs[k[0]+rules[k]] += v\n",
    "            pairs[rules[k]+k[1]] += v\n",
    "            pairs[k] -= v\n",
    "    return pairs\n",
    "\n",
    "def countLetters(pairs, seed):\n",
    "    letters = defaultdict(int)\n",
    "    for k, v in pairs.items():\n",
    "        letters[k[0]] += v\n",
    "    letters[seed[-1]] += 1\n",
    "    return letters"
   ]
  },
  {
   "cell_type": "code",
   "execution_count": 55,
   "metadata": {},
   "outputs": [
    {
     "name": "stdout",
     "output_type": "stream",
     "text": [
      "parse time:  0.0000158\n",
      "run time:  0.0005487\n",
      "2188189693529\n"
     ]
    }
   ],
   "source": [
    "applyRulesEfficiently(testData,40)"
   ]
  },
  {
   "cell_type": "code",
   "execution_count": 56,
   "metadata": {},
   "outputs": [
    {
     "name": "stdout",
     "output_type": "stream",
     "text": [
      "parse time:  0.0001261\n",
      "run time:  0.0038486\n",
      "2967977072188\n"
     ]
    }
   ],
   "source": [
    "applyRulesEfficiently(puzzleData,40)"
   ]
  }
 ],
 "metadata": {
  "kernelspec": {
   "display_name": "Python 3",
   "language": "python",
   "name": "python3"
  },
  "language_info": {
   "codemirror_mode": {
    "name": "ipython",
    "version": 3
   },
   "file_extension": ".py",
   "mimetype": "text/x-python",
   "name": "python",
   "nbconvert_exporter": "python",
   "pygments_lexer": "ipython3",
   "version": "3.7.2"
  }
 },
 "nbformat": 4,
 "nbformat_minor": 4
}
