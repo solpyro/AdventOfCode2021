{
 "cells": [
  {
   "cell_type": "markdown",
   "metadata": {},
   "source": [
    "# Day 6\n",
    "\n",
    "## Data"
   ]
  },
  {
   "cell_type": "code",
   "execution_count": 1,
   "metadata": {},
   "outputs": [],
   "source": [
    "puzzleData = \"1,4,3,3,1,3,1,1,1,2,1,1,1,4,4,1,5,5,3,1,3,5,2,1,5,2,4,1,4,5,4,1,5,1,5,5,1,1,1,4,1,5,1,1,1,1,1,4,1,2,5,1,4,1,2,1,1,5,1,1,1,1,4,1,5,1,1,2,1,4,5,1,2,1,2,2,1,1,1,1,1,5,5,3,1,1,1,1,1,4,2,4,1,2,1,4,2,3,1,4,5,3,3,2,1,1,5,4,1,1,1,2,1,1,5,4,5,1,3,1,1,1,1,1,1,2,1,3,1,2,1,1,1,1,1,1,1,2,1,1,1,1,2,1,1,1,1,1,1,4,5,1,3,1,4,4,2,3,4,1,1,1,5,1,1,1,4,1,5,4,3,1,5,1,1,1,1,1,5,4,1,1,1,4,3,1,3,3,1,3,2,1,1,3,1,1,4,5,1,1,1,1,1,3,1,4,1,3,1,5,4,5,1,1,5,1,1,4,1,1,1,3,1,1,4,2,3,1,1,1,1,2,4,1,1,1,1,1,2,3,1,5,5,1,4,1,1,1,1,3,3,1,4,1,2,1,3,1,1,1,3,2,2,1,5,1,1,3,2,1,1,5,1,1,1,1,1,1,1,1,1,1,2,5,1,1,1,1,3,1,1,1,1,1,1,1,1,5,5,1\""
   ]
  },
  {
   "cell_type": "code",
   "execution_count": 2,
   "metadata": {},
   "outputs": [],
   "source": [
    "testData = \"3,4,3,1,2\""
   ]
  },
  {
   "cell_type": "markdown",
   "metadata": {},
   "source": [
    "## Parse data"
   ]
  },
  {
   "cell_type": "code",
   "execution_count": 5,
   "metadata": {},
   "outputs": [],
   "source": [
    "from timeit import default_timer as timer\n",
    "\n",
    "def parseData(data):\n",
    "    start = timer()\n",
    "    parsedData = [int(n) for n in data.split(',')]\n",
    "    end = timer()\n",
    "    print(\"parse time: \"+\"{:10.7f}\".format(end-start))\n",
    "    return parsedData"
   ]
  },
  {
   "cell_type": "markdown",
   "metadata": {},
   "source": [
    "## Part 1"
   ]
  },
  {
   "cell_type": "code",
   "execution_count": 6,
   "metadata": {},
   "outputs": [],
   "source": [
    "def count80Days(data):\n",
    "    school = parseData(data)\n",
    "    start = timer()\n",
    "    for day in range(80):\n",
    "        newFish = 0\n",
    "        for i, fish in enumerate(school):\n",
    "            school[i] = school[i]-1\n",
    "            if(school[i]<0):\n",
    "                school[i] = 6\n",
    "                newFish = newFish+1\n",
    "        for n in range(newFish):\n",
    "            school.append(8)\n",
    "    end = timer()\n",
    "    print(\"run time: \"+\"{:10.7f}\".format(end-start))\n",
    "    print(len(school))"
   ]
  },
  {
   "cell_type": "code",
   "execution_count": 7,
   "metadata": {},
   "outputs": [
    {
     "name": "stdout",
     "output_type": "stream",
     "text": [
      "parse time:  0.0000064\n",
      "run time:  0.0253956\n",
      "5934\n"
     ]
    }
   ],
   "source": [
    "count80Days(testData)"
   ]
  },
  {
   "cell_type": "code",
   "execution_count": 8,
   "metadata": {},
   "outputs": [
    {
     "name": "stdout",
     "output_type": "stream",
     "text": [
      "parse time:  0.0002656\n",
      "run time:  1.9297476\n",
      "379114\n"
     ]
    }
   ],
   "source": [
    "count80Days(puzzleData)"
   ]
  },
  {
   "cell_type": "code",
   "execution_count": 9,
   "metadata": {},
   "outputs": [],
   "source": [
    "def countForDays(data, days):\n",
    "    school = parseData(data)\n",
    "    start = timer()\n",
    "    orderedSchool = orderSchool(school)\n",
    "    for day in range(days):\n",
    "        newFish = orderedSchool.pop(0)\n",
    "        orderedSchool[6] = orderedSchool[6] + newFish\n",
    "        orderedSchool.append(newFish)\n",
    "    sumSchools = sum(orderedSchool)\n",
    "    end = timer()\n",
    "    print(\"run time: \"+\"{:10.7f}\".format(end-start))\n",
    "    print(sumSchools)\n",
    "\n",
    "def orderSchool(school):\n",
    "    orderedSchool = [0]*9\n",
    "    for fish in school:\n",
    "        orderedSchool[fish] = orderedSchool[fish]+1\n",
    "    return orderedSchool"
   ]
  },
  {
   "cell_type": "code",
   "execution_count": 10,
   "metadata": {},
   "outputs": [
    {
     "name": "stdout",
     "output_type": "stream",
     "text": [
      "parse time:  0.0000099\n",
      "run time:  0.0001871\n",
      "26984457539\n"
     ]
    }
   ],
   "source": [
    "countForDays(testData,256)"
   ]
  },
  {
   "cell_type": "code",
   "execution_count": 11,
   "metadata": {},
   "outputs": [
    {
     "name": "stdout",
     "output_type": "stream",
     "text": [
      "parse time:  0.0001876\n",
      "run time:  0.0002458\n",
      "1702631502303\n"
     ]
    }
   ],
   "source": [
    "countForDays(puzzleData,256)"
   ]
  }
 ],
 "metadata": {
  "kernelspec": {
   "display_name": "Python 3",
   "language": "python",
   "name": "python3"
  },
  "language_info": {
   "codemirror_mode": {
    "name": "ipython",
    "version": 3
   },
   "file_extension": ".py",
   "mimetype": "text/x-python",
   "name": "python",
   "nbconvert_exporter": "python",
   "pygments_lexer": "ipython3",
   "version": "3.7.2"
  }
 },
 "nbformat": 4,
 "nbformat_minor": 4
}
