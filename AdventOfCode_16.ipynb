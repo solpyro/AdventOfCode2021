{
 "cells": [
  {
   "cell_type": "markdown",
   "metadata": {},
   "source": [
    "# Day 16: Packet Decoder\n",
    "\n",
    "## Data"
   ]
  },
  {
   "cell_type": "code",
   "execution_count": 87,
   "metadata": {},
   "outputs": [],
   "source": [
    "puzzleData = \"E20D79005573F71DA0054E48527EF97D3004653BB1FC006867A8B1371AC49C801039171941340066E6B99A6A58B8110088BA008CE6F7893D4E6F7893DCDCFDB9D6CBC4026FE8026200DC7D84B1C00010A89507E3CCEE37B592014D3C01491B6697A83CB4F59E5E7FFA5CC66D4BC6F05D3004E6BB742B004E7E6B3375A46CF91D8C027911797589E17920F4009BE72DA8D2E4523DCEE86A8018C4AD3C7F2D2D02C5B9FF53366E3004658DB0012A963891D168801D08480485B005C0010A883116308002171AA24C679E0394EB898023331E60AB401294D98CA6CD8C01D9B349E0A99363003E655D40289CBDBB2F55D25E53ECAF14D9ABBB4CC726F038C011B0044401987D0BE0C00021B04E2546499DE824C015B004A7755B570013F2DD8627C65C02186F2996E9CCD04E5718C5CBCC016B004A4F61B27B0D9B8633F9344D57B0C1D3805537ADFA21F231C6EC9F3D3089FF7CD25E5941200C96801F191C77091238EE13A704A7CCC802B3B00567F192296259ABD9C400282915B9F6E98879823046C0010C626C966A19351EE27DE86C8E6968F2BE3D2008EE540FC01196989CD9410055725480D60025737BA1547D700727B9A89B444971830070401F8D70BA3B8803F16A3FC2D00043621C3B8A733C8BD880212BCDEE9D34929164D5CB08032594E5E1D25C0055E5B771E966783240220CD19E802E200F4588450BC401A8FB14E0A1805B36F3243B2833247536B70BDC00A60348880C7730039400B402A91009F650028C00E2020918077610021C00C1002D80512601188803B4000C148025010036727EE5AD6B445CC011E00B825E14F4BBF5F97853D2EFD6256F8FFE9F3B001420C01A88915E259002191EE2F4392004323E44A8B4C0069CEF34D304C001AB94379D149BD904507004A6D466B618402477802E200D47383719C0010F8A507A294CC9C90024A967C9995EE2933BA840\""
   ]
  },
  {
   "cell_type": "code",
   "execution_count": 1,
   "metadata": {},
   "outputs": [],
   "source": [
    "testData1 = \"8A004A801A8002F478\""
   ]
  },
  {
   "cell_type": "code",
   "execution_count": 78,
   "metadata": {},
   "outputs": [],
   "source": [
    "testData2 = \"620080001611562C8802118E34\""
   ]
  },
  {
   "cell_type": "code",
   "execution_count": 3,
   "metadata": {},
   "outputs": [],
   "source": [
    "testData3 = \"C0015000016115A2E0802F182340\""
   ]
  },
  {
   "cell_type": "code",
   "execution_count": 4,
   "metadata": {},
   "outputs": [],
   "source": [
    "testData4 = \"A0016C880162017C3686B18A3D4780\""
   ]
  },
  {
   "cell_type": "markdown",
   "metadata": {},
   "source": [
    "## Parse data"
   ]
  },
  {
   "cell_type": "code",
   "execution_count": 152,
   "metadata": {},
   "outputs": [],
   "source": [
    "from timeit import default_timer as timer\n",
    "\n",
    "def parseData(data):\n",
    "    start = timer()\n",
    "    bitstream = hexToBin(data)\n",
    "    rootPacket, foo = parsePacket(bitstream)\n",
    "    end = timer()\n",
    "    print(\"parse time: \"+\"{:10.7f}\".format(end-start))\n",
    "    return rootPacket\n",
    "\n",
    "def hexToBin(hexstream):\n",
    "    bitstream = \"{0:b}\".format(int(hexstream,16),2)\n",
    "    return bitstream.zfill(len(hexstream)*4)\n",
    "\n",
    "def parsePacket(bitstream):\n",
    "    version = int(bitstream[:3],2)\n",
    "    type = int(bitstream[3:6],2)\n",
    "    packet = Packet(version,type)\n",
    "    \n",
    "    bitstream = bitstream[6:]\n",
    "    \n",
    "    if type is 4:\n",
    "        foundLastChunk = False\n",
    "        numberbits = ''\n",
    "        # discard leading 0s\n",
    "        while not foundLastChunk:\n",
    "            chunk = bitstream[:5]\n",
    "            bitstream = bitstream[5:]\n",
    "            numberbits += chunk[1:]\n",
    "            if chunk[0] == '0':\n",
    "                foundLastChunk = True\n",
    "        packet.setNumber(int(numberbits,2))\n",
    "    else:\n",
    "        if bitstream[0] == '0':\n",
    "            subpacketsLength = int(bitstream[1:16],2)\n",
    "            subpackets = bitstream[16:subpacketsLength+16]\n",
    "            bitstream = bitstream[subpacketsLength+16:]\n",
    "            while len(subpackets) != 0 and not all(x == '0' for x in subpackets):\n",
    "                subpacket, subpackets = parsePacket(subpackets)\n",
    "                packet.addChildPacket(subpacket)\n",
    "        else:\n",
    "            subpacketsCount = int(bitstream[1:12])\n",
    "            bitstream = bitstream[12:]\n",
    "            for _ in range(subpacketsCount):\n",
    "                if len(bitstream) < 7:\n",
    "                    break\n",
    "                subpacket, bitstream = parsePacket(bitstream)\n",
    "                packet.addChildPacket(subpacket)\n",
    "    return packet, bitstream"
   ]
  },
  {
   "cell_type": "code",
   "execution_count": 169,
   "metadata": {},
   "outputs": [],
   "source": [
    "class Packet:\n",
    "    def __init__(self,v,t):\n",
    "        self.version = v    \n",
    "        self.type = t\n",
    "        self.packets = []\n",
    "        self.number = 0\n",
    "    \n",
    "    def addChildPacket(self, packet):\n",
    "        self.packets.append(packet)\n",
    "    \n",
    "    def setNumber(self, n):\n",
    "        self.number = n"
   ]
  },
  {
   "cell_type": "markdown",
   "metadata": {},
   "source": [
    "## Part 1"
   ]
  },
  {
   "cell_type": "code",
   "execution_count": 154,
   "metadata": {},
   "outputs": [],
   "source": [
    "def sumAllVersionNumbers(data):\n",
    "    rootNode = parseData(data)\n",
    "    start = timer()\n",
    "    versionNumbers = getVersionNumbers(rootNode)\n",
    "    total = sum(versionNumbers)\n",
    "    end = timer()\n",
    "    print(\"run time: \"+\"{:10.7f}\".format(end-start))\n",
    "    print(total)\n",
    "    \n",
    "def getVersionNumbers(node):\n",
    "    versionNumbers = [node.version]\n",
    "    if len(node.packets) > 0:\n",
    "        for packet in node.packets:\n",
    "            versionNumbers.extend(getVersionNumbers(packet))\n",
    "    return versionNumbers"
   ]
  },
  {
   "cell_type": "code",
   "execution_count": 130,
   "metadata": {},
   "outputs": [
    {
     "name": "stdout",
     "output_type": "stream",
     "text": [
      "parse time:  0.0000735\n",
      "run time:  0.0000112\n",
      "16\n"
     ]
    }
   ],
   "source": [
    "sumAllVersionNumbers(testData1)"
   ]
  },
  {
   "cell_type": "code",
   "execution_count": 155,
   "metadata": {},
   "outputs": [
    {
     "name": "stdout",
     "output_type": "stream",
     "text": [
      "parse time:  0.0000584\n",
      "run time:  0.0000088\n",
      "12\n"
     ]
    }
   ],
   "source": [
    "sumAllVersionNumbers(testData2)"
   ]
  },
  {
   "cell_type": "code",
   "execution_count": 92,
   "metadata": {},
   "outputs": [
    {
     "name": "stdout",
     "output_type": "stream",
     "text": [
      "parse time:  0.0001019\n",
      "run time:  0.0000153\n",
      "23\n"
     ]
    }
   ],
   "source": [
    "sumAllVersionNumbers(testData3)"
   ]
  },
  {
   "cell_type": "code",
   "execution_count": 93,
   "metadata": {},
   "outputs": [
    {
     "name": "stdout",
     "output_type": "stream",
     "text": [
      "parse time:  0.0000468\n",
      "run time:  0.0000076\n",
      "31\n"
     ]
    }
   ],
   "source": [
    "sumAllVersionNumbers(testData4)"
   ]
  },
  {
   "cell_type": "code",
   "execution_count": 94,
   "metadata": {},
   "outputs": [
    {
     "name": "stdout",
     "output_type": "stream",
     "text": [
      "parse time:  0.0025020\n",
      "run time:  0.0003694\n",
      "951\n"
     ]
    }
   ],
   "source": [
    "sumAllVersionNumbers(puzzleData)"
   ]
  },
  {
   "cell_type": "markdown",
   "metadata": {},
   "source": [
    "## Part 2"
   ]
  },
  {
   "cell_type": "code",
   "execution_count": 167,
   "metadata": {},
   "outputs": [],
   "source": [
    "import numpy\n",
    "\n",
    "def resolveTheMessage(data):\n",
    "    rootNode = parseData(data)\n",
    "    printNodes(rootNode)\n",
    "    start = timer()\n",
    "    result = resolveNode(rootNode)\n",
    "    end = timer()\n",
    "    print(\"run time: \"+\"{:10.7f}\".format(end-start))\n",
    "    print(result)\n",
    "\n",
    "def resolveNode(node):\n",
    "    print(node.type, node.version)\n",
    "    if node.type == 0:\n",
    "        return sum([resolveNode(packet) for packet in node.packets])\n",
    "    if node.type == 1:\n",
    "        return int(numpy.prod([resolveNode(packet) for packet in node.packets]))\n",
    "    if node.type == 2:\n",
    "        return min([resolveNode(packet) for packet in node.packets])\n",
    "    if node.type == 3:\n",
    "        return max([resolveNode(packet) for packet in node.packets])\n",
    "    if node.type == 4:\n",
    "        return node.number\n",
    "    if node.type == 5:\n",
    "        return 1 if resolveNode(node.packets[0]) > resolveNode(node.packets[1]) else 0\n",
    "    if node.type == 6:\n",
    "        return 1 if resolveNode(node.packets[0]) < resolveNode(node.packets[1]) else 0\n",
    "    if node.type == 7:\n",
    "        return 1 if resolveNode(node.packets[0]) == resolveNode(node.packets[1]) else 0"
   ]
  },
  {
   "cell_type": "code",
   "execution_count": 163,
   "metadata": {},
   "outputs": [
    {
     "name": "stdout",
     "output_type": "stream",
     "text": [
      "parse time:  0.0000472\n",
      "run time:  0.0000093\n",
      "3\n"
     ]
    }
   ],
   "source": [
    "resolveTheMessage(\"C200B40A82\")"
   ]
  },
  {
   "cell_type": "code",
   "execution_count": 164,
   "metadata": {},
   "outputs": [
    {
     "name": "stdout",
     "output_type": "stream",
     "text": [
      "parse time:  0.0000283\n",
      "run time:  0.0000406\n",
      "54\n"
     ]
    }
   ],
   "source": [
    "resolveTheMessage(\"04005AC33890\")"
   ]
  },
  {
   "cell_type": "code",
   "execution_count": 123,
   "metadata": {},
   "outputs": [
    {
     "name": "stdout",
     "output_type": "stream",
     "text": [
      "parse time:  0.0000485\n",
      "run time:  0.0000082\n",
      "7\n"
     ]
    }
   ],
   "source": [
    "resolveTheMessage(\"880086C3E88112\")"
   ]
  },
  {
   "cell_type": "code",
   "execution_count": 124,
   "metadata": {},
   "outputs": [
    {
     "name": "stdout",
     "output_type": "stream",
     "text": [
      "parse time:  0.0000431\n",
      "run time:  0.0000083\n",
      "9\n"
     ]
    }
   ],
   "source": [
    "resolveTheMessage(\"CE00C43D881120\")"
   ]
  },
  {
   "cell_type": "code",
   "execution_count": 126,
   "metadata": {},
   "outputs": [
    {
     "name": "stdout",
     "output_type": "stream",
     "text": [
      "parse time:  0.0000415\n",
      "run time:  0.0000054\n",
      "1\n"
     ]
    }
   ],
   "source": [
    "resolveTheMessage(\"D8005AC2A8F0\")"
   ]
  },
  {
   "cell_type": "code",
   "execution_count": 127,
   "metadata": {},
   "outputs": [
    {
     "name": "stdout",
     "output_type": "stream",
     "text": [
      "parse time:  0.0000468\n",
      "run time:  0.0000066\n",
      "0\n"
     ]
    }
   ],
   "source": [
    "resolveTheMessage(\"F600BC2D8F\")"
   ]
  },
  {
   "cell_type": "code",
   "execution_count": 128,
   "metadata": {},
   "outputs": [
    {
     "name": "stdout",
     "output_type": "stream",
     "text": [
      "parse time:  0.0000504\n",
      "run time:  0.0000071\n",
      "0\n"
     ]
    }
   ],
   "source": [
    "resolveTheMessage(\"9C005AC2F8F0\")"
   ]
  },
  {
   "cell_type": "code",
   "execution_count": 170,
   "metadata": {},
   "outputs": [
    {
     "name": "stdout",
     "output_type": "stream",
     "text": [
      "parse time:  0.0000413\n",
      " version:4 type:7 children:1 number: 0\n",
      "- version:2 type:0 children:3 number: 0\n",
      "-- version:2 type:4 children:0 number: 1\n",
      "-- version:4 type:4 children:0 number: 3\n",
      "-- version:6 type:1 children:2 number: 0\n",
      "--- version:0 type:4 children:0 number: 2\n",
      "--- version:2 type:4 children:0 number: 2\n",
      "7 4\n",
      "0 2\n",
      "4 2\n",
      "4 4\n",
      "1 6\n",
      "4 0\n",
      "4 2\n"
     ]
    },
    {
     "ename": "IndexError",
     "evalue": "list index out of range",
     "output_type": "error",
     "traceback": [
      "\u001b[1;31m---------------------------------------------------------------------------\u001b[0m",
      "\u001b[1;31mIndexError\u001b[0m                                Traceback (most recent call last)",
      "\u001b[1;32m<ipython-input-170-6ae3d19e7914>\u001b[0m in \u001b[0;36m<module>\u001b[1;34m\u001b[0m\n\u001b[1;32m----> 1\u001b[1;33m \u001b[0mresolveTheMessage\u001b[0m\u001b[1;33m(\u001b[0m\u001b[1;34m\"9C0141080250320F1802104A08\"\u001b[0m\u001b[1;33m)\u001b[0m\u001b[1;33m\u001b[0m\u001b[1;33m\u001b[0m\u001b[0m\n\u001b[0m",
      "\u001b[1;32m<ipython-input-167-72294fce9b06>\u001b[0m in \u001b[0;36mresolveTheMessage\u001b[1;34m(data)\u001b[0m\n\u001b[0;32m      5\u001b[0m     \u001b[0mprintNodes\u001b[0m\u001b[1;33m(\u001b[0m\u001b[0mrootNode\u001b[0m\u001b[1;33m)\u001b[0m\u001b[1;33m\u001b[0m\u001b[1;33m\u001b[0m\u001b[0m\n\u001b[0;32m      6\u001b[0m     \u001b[0mstart\u001b[0m \u001b[1;33m=\u001b[0m \u001b[0mtimer\u001b[0m\u001b[1;33m(\u001b[0m\u001b[1;33m)\u001b[0m\u001b[1;33m\u001b[0m\u001b[1;33m\u001b[0m\u001b[0m\n\u001b[1;32m----> 7\u001b[1;33m     \u001b[0mresult\u001b[0m \u001b[1;33m=\u001b[0m \u001b[0mresolveNode\u001b[0m\u001b[1;33m(\u001b[0m\u001b[0mrootNode\u001b[0m\u001b[1;33m)\u001b[0m\u001b[1;33m\u001b[0m\u001b[1;33m\u001b[0m\u001b[0m\n\u001b[0m\u001b[0;32m      8\u001b[0m     \u001b[0mend\u001b[0m \u001b[1;33m=\u001b[0m \u001b[0mtimer\u001b[0m\u001b[1;33m(\u001b[0m\u001b[1;33m)\u001b[0m\u001b[1;33m\u001b[0m\u001b[1;33m\u001b[0m\u001b[0m\n\u001b[0;32m      9\u001b[0m     \u001b[0mprint\u001b[0m\u001b[1;33m(\u001b[0m\u001b[1;34m\"run time: \"\u001b[0m\u001b[1;33m+\u001b[0m\u001b[1;34m\"{:10.7f}\"\u001b[0m\u001b[1;33m.\u001b[0m\u001b[0mformat\u001b[0m\u001b[1;33m(\u001b[0m\u001b[0mend\u001b[0m\u001b[1;33m-\u001b[0m\u001b[0mstart\u001b[0m\u001b[1;33m)\u001b[0m\u001b[1;33m)\u001b[0m\u001b[1;33m\u001b[0m\u001b[1;33m\u001b[0m\u001b[0m\n",
      "\u001b[1;32m<ipython-input-167-72294fce9b06>\u001b[0m in \u001b[0;36mresolveNode\u001b[1;34m(node)\u001b[0m\n\u001b[0;32m     27\u001b[0m         \u001b[1;32mreturn\u001b[0m \u001b[1;36m1\u001b[0m \u001b[1;32mif\u001b[0m \u001b[0mresolveNode\u001b[0m\u001b[1;33m(\u001b[0m\u001b[0mnode\u001b[0m\u001b[1;33m.\u001b[0m\u001b[0mpackets\u001b[0m\u001b[1;33m[\u001b[0m\u001b[1;36m0\u001b[0m\u001b[1;33m]\u001b[0m\u001b[1;33m)\u001b[0m \u001b[1;33m<\u001b[0m \u001b[0mresolveNode\u001b[0m\u001b[1;33m(\u001b[0m\u001b[0mnode\u001b[0m\u001b[1;33m.\u001b[0m\u001b[0mpackets\u001b[0m\u001b[1;33m[\u001b[0m\u001b[1;36m1\u001b[0m\u001b[1;33m]\u001b[0m\u001b[1;33m)\u001b[0m \u001b[1;32melse\u001b[0m \u001b[1;36m0\u001b[0m\u001b[1;33m\u001b[0m\u001b[1;33m\u001b[0m\u001b[0m\n\u001b[0;32m     28\u001b[0m     \u001b[1;32mif\u001b[0m \u001b[0mnode\u001b[0m\u001b[1;33m.\u001b[0m\u001b[0mtype\u001b[0m \u001b[1;33m==\u001b[0m \u001b[1;36m7\u001b[0m\u001b[1;33m:\u001b[0m\u001b[1;33m\u001b[0m\u001b[1;33m\u001b[0m\u001b[0m\n\u001b[1;32m---> 29\u001b[1;33m         \u001b[1;32mreturn\u001b[0m \u001b[1;36m1\u001b[0m \u001b[1;32mif\u001b[0m \u001b[0mresolveNode\u001b[0m\u001b[1;33m(\u001b[0m\u001b[0mnode\u001b[0m\u001b[1;33m.\u001b[0m\u001b[0mpackets\u001b[0m\u001b[1;33m[\u001b[0m\u001b[1;36m0\u001b[0m\u001b[1;33m]\u001b[0m\u001b[1;33m)\u001b[0m \u001b[1;33m==\u001b[0m \u001b[0mresolveNode\u001b[0m\u001b[1;33m(\u001b[0m\u001b[0mnode\u001b[0m\u001b[1;33m.\u001b[0m\u001b[0mpackets\u001b[0m\u001b[1;33m[\u001b[0m\u001b[1;36m1\u001b[0m\u001b[1;33m]\u001b[0m\u001b[1;33m)\u001b[0m \u001b[1;32melse\u001b[0m \u001b[1;36m0\u001b[0m\u001b[1;33m\u001b[0m\u001b[1;33m\u001b[0m\u001b[0m\n\u001b[0m",
      "\u001b[1;31mIndexError\u001b[0m: list index out of range"
     ]
    }
   ],
   "source": [
    "resolveTheMessage(\"9C0141080250320F1802104A08\")"
   ]
  },
  {
   "cell_type": "code",
   "execution_count": 159,
   "metadata": {},
   "outputs": [
    {
     "name": "stdout",
     "output_type": "stream",
     "text": [
      "parse time:  0.0034489\n",
      " version:7 type:0 children:2\n",
      "- version:7 type:1 children:2\n",
      "-- version:3 type:4 children:0\n",
      "-- version:5 type:5 children:2\n",
      "--- version:3 type:4 children:0\n",
      "--- version:4 type:4 children:0\n",
      "- version:5 type:1 children:8\n",
      "-- version:1 type:4 children:0\n",
      "-- version:7 type:6 children:2\n",
      "--- version:1 type:4 children:0\n",
      "--- version:0 type:4 children:0\n",
      "-- version:7 type:1 children:2\n",
      "--- version:3 type:4 children:0\n",
      "--- version:1 type:4 children:0\n",
      "-- version:3 type:2 children:1\n",
      "--- version:3 type:4 children:0\n",
      "-- version:2 type:1 children:1\n",
      "--- version:5 type:6 children:3\n",
      "---- version:1 type:4 children:0\n",
      "---- version:2 type:4 children:0\n",
      "---- version:3 type:4 children:0\n",
      "-- version:6 type:1 children:1\n",
      "--- version:7 type:6 children:1\n",
      "---- version:3 type:0 children:5\n",
      "----- version:3 type:4 children:0\n",
      "----- version:5 type:4 children:0\n",
      "----- version:5 type:4 children:0\n",
      "----- version:0 type:0 children:3\n",
      "------ version:2 type:4 children:0\n",
      "------ version:2 type:4 children:0\n",
      "------ version:7 type:4 children:0\n",
      "----- version:1 type:4 children:0\n",
      "-- version:1 type:1 children:1\n",
      "--- version:4 type:7 children:3\n",
      "---- version:4 type:4 children:0\n",
      "---- version:7 type:4 children:0\n",
      "---- version:3 type:4 children:0\n",
      "-- version:5 type:1 children:2\n",
      "--- version:3 type:4 children:0\n",
      "--- version:2 type:5 children:4\n",
      "---- version:3 type:4 children:0\n",
      "---- version:1 type:4 children:0\n",
      "---- version:4 type:4 children:0\n",
      "---- version:6 type:1 children:7\n",
      "----- version:7 type:4 children:0\n",
      "----- version:7 type:4 children:0\n",
      "----- version:0 type:4 children:0\n",
      "----- version:7 type:4 children:0\n",
      "----- version:7 type:2 children:2\n",
      "------ version:7 type:4 children:0\n",
      "------ version:2 type:4 children:0\n",
      "----- version:5 type:2 children:4\n",
      "------ version:0 type:4 children:0\n",
      "------ version:7 type:4 children:0\n",
      "------ version:5 type:4 children:0\n",
      "------ version:3 type:4 children:0\n",
      "----- version:6 type:1 children:6\n",
      "------ version:1 type:4 children:0\n",
      "------ version:6 type:6 children:2\n",
      "------- version:2 type:4 children:0\n",
      "------- version:0 type:4 children:0\n",
      "------ version:5 type:0 children:1\n",
      "------- version:6 type:4 children:0\n",
      "------ version:1 type:1 children:1\n",
      "------- version:5 type:5 children:3\n",
      "-------- version:7 type:0 children:3\n",
      "--------- version:2 type:4 children:0\n",
      "--------- version:1 type:4 children:0\n",
      "--------- version:5 type:4 children:0\n",
      "-------- version:1 type:0 children:3\n",
      "--------- version:3 type:4 children:0\n",
      "--------- version:2 type:4 children:0\n",
      "--------- version:1 type:4 children:0\n",
      "-------- version:7 type:4 children:0\n",
      "------ version:3 type:4 children:0\n",
      "------ version:1 type:1 children:2\n",
      "------- version:1 type:4 children:0\n",
      "------- version:2 type:6 children:3\n",
      "-------- version:2 type:4 children:0\n",
      "-------- version:1 type:4 children:0\n",
      "-------- version:6 type:1 children:5\n",
      "--------- version:5 type:4 children:0\n",
      "--------- version:4 type:4 children:0\n",
      "--------- version:2 type:4 children:0\n",
      "--------- version:6 type:1 children:1\n",
      "---------- version:7 type:4 children:0\n",
      "--------- version:7 type:2 children:6\n",
      "---------- version:0 type:4 children:0\n",
      "---------- version:4 type:4 children:0\n",
      "---------- version:5 type:4 children:0\n",
      "---------- version:6 type:4 children:0\n",
      "---------- version:7 type:4 children:0\n",
      "---------- version:6 type:1 children:1\n",
      "----------- version:1 type:5 children:1\n",
      "------------ version:1 type:0 children:6\n",
      "------------- version:1 type:4 children:0\n",
      "------------- version:6 type:4 children:0\n",
      "------------- version:7 type:4 children:0\n",
      "------------- version:0 type:0 children:3\n",
      "-------------- version:5 type:4 children:0\n",
      "-------------- version:3 type:4 children:0\n",
      "-------------- version:2 type:4 children:0\n",
      "------------- version:4 type:4 children:0\n",
      "------------- version:1 type:1 children:1\n",
      "-------------- version:5 type:5 children:4\n",
      "--------------- version:2 type:4 children:0\n",
      "--------------- version:0 type:4 children:0\n",
      "--------------- version:0 type:4 children:0\n",
      "--------------- version:1 type:3 children:5\n",
      "---------------- version:1 type:4 children:0\n",
      "---------------- version:7 type:4 children:0\n",
      "---------------- version:6 type:4 children:0\n",
      "---------------- version:3 type:4 children:0\n",
      "---------------- version:7 type:1 children:1\n",
      "----------------- version:6 type:5 children:5\n",
      "------------------ version:2 type:4 children:0\n",
      "------------------ version:5 type:4 children:0\n",
      "------------------ version:5 type:4 children:0\n",
      "------------------ version:0 type:4 children:0\n",
      "------------------ version:2 type:3 children:13\n",
      "------------------- version:2 type:4 children:0\n",
      "------------------- version:7 type:4 children:0\n",
      "------------------- version:7 type:4 children:0\n",
      "------------------- version:0 type:4 children:0\n",
      "------------------- version:4 type:4 children:0\n",
      "------------------- version:1 type:1 children:2\n",
      "-------------------- version:5 type:5 children:2\n",
      "--------------------- version:1 type:4 children:0\n",
      "--------------------- version:0 type:4 children:0\n",
      "-------------------- version:6 type:4 children:0\n",
      "------------------- version:2 type:4 children:0\n",
      "------------------- version:3 type:1 children:1\n",
      "-------------------- version:3 type:5 children:3\n",
      "--------------------- version:5 type:4 children:0\n",
      "--------------------- version:2 type:4 children:0\n",
      "--------------------- version:5 type:4 children:0\n",
      "------------------- version:1 type:0 children:5\n",
      "-------------------- version:2 type:4 children:0\n",
      "-------------------- version:3 type:4 children:0\n",
      "-------------------- version:6 type:4 children:0\n",
      "-------------------- version:0 type:4 children:0\n",
      "-------------------- version:0 type:4 children:0\n",
      "------------------- version:4 type:0 children:4\n",
      "-------------------- version:1 type:4 children:0\n",
      "-------------------- version:5 type:4 children:0\n",
      "-------------------- version:4 type:4 children:0\n",
      "-------------------- version:5 type:4 children:0\n",
      "------------------- version:5 type:1 children:2\n",
      "-------------------- version:3 type:4 children:0\n",
      "-------------------- version:3 type:7 children:2\n",
      "--------------------- version:1 type:4 children:0\n",
      "--------------------- version:3 type:4 children:0\n",
      "------------------- version:0 type:1 children:2\n",
      "-------------------- version:3 type:4 children:0\n",
      "-------------------- version:2 type:6 children:2\n",
      "--------------------- version:3 type:4 children:0\n",
      "--------------------- version:2 type:4 children:0\n",
      "------------------- version:5 type:3 children:4\n",
      "-------------------- version:4 type:4 children:0\n",
      "-------------------- version:6 type:4 children:0\n",
      "-------------------- version:4 type:4 children:0\n",
      "-------------------- version:0 type:1 children:1\n",
      "--------------------- version:4 type:0 children:4\n",
      "---------------------- version:7 type:4 children:0\n",
      "---------------------- version:3 type:4 children:0\n",
      "---------------------- version:6 type:4 children:0\n",
      "---------------------- version:7 type:0 children:6\n",
      "----------------------- version:7 type:4 children:0\n",
      "----------------------- version:2 type:4 children:0\n",
      "----------------------- version:7 type:4 children:0\n",
      "----------------------- version:5 type:0 children:3\n",
      "------------------------ version:5 type:4 children:0\n",
      "------------------------ version:3 type:4 children:0\n",
      "------------------------ version:3 type:4 children:0\n",
      "----------------------- version:3 type:4 children:0\n",
      "----------------------- version:3 type:0 children:7\n",
      "------------------------ version:0 type:4 children:0\n",
      "------------------------ version:4 type:4 children:0\n",
      "------------------------ version:4 type:4 children:0\n",
      "------------------------ version:4 type:1 children:2\n",
      "------------------------- version:5 type:4 children:0\n",
      "------------------------- version:5 type:6 children:2\n",
      "-------------------------- version:7 type:4 children:0\n",
      "-------------------------- version:6 type:4 children:0\n",
      "------------------------ version:7 type:4 children:0\n",
      "------------------------ version:1 type:1 children:2\n",
      "------------------------- version:1 type:4 children:0\n",
      "------------------------- version:3 type:6 children:1\n",
      "-------------------------- version:7 type:0 children:4\n",
      "--------------------------- version:6 type:4 children:0\n",
      "--------------------------- version:0 type:4 children:0\n",
      "--------------------------- version:2 type:4 children:0\n",
      "--------------------------- version:7 type:0 children:3\n",
      "---------------------------- version:2 type:4 children:0\n",
      "---------------------------- version:5 type:4 children:0\n",
      "---------------------------- version:3 type:4 children:0\n",
      "------------------------ version:4 type:1 children:8\n",
      "------------------------- version:5 type:4 children:0\n",
      "------------------------- version:1 type:4 children:0\n",
      "------------------------- version:5 type:4 children:0\n",
      "------------------------- version:1 type:4 children:0\n",
      "------------------------- version:2 type:4 children:0\n",
      "------------------------- version:3 type:4 children:0\n",
      "------------------------- version:7 type:3 children:1\n",
      "-------------------------- version:2 type:3 children:1\n",
      "--------------------------- version:2 type:1 children:1\n",
      "---------------------------- version:7 type:1 children:1\n",
      "----------------------------- version:6 type:2 children:1\n",
      "------------------------------ version:3 type:2 children:1\n",
      "------------------------------- version:4 type:2 children:1\n",
      "-------------------------------- version:6 type:2 children:1\n",
      "--------------------------------- version:2 type:1 children:1\n",
      "---------------------------------- version:6 type:1 children:1\n",
      "----------------------------------- version:4 type:3 children:1\n",
      "------------------------------------ version:6 type:0 children:1\n",
      "------------------------------------- version:0 type:3 children:1\n",
      "-------------------------------------- version:4 type:0 children:1\n",
      "--------------------------------------- version:3 type:3 children:1\n",
      "---------------------------------------- version:2 type:3 children:1\n",
      "----------------------------------------- version:2 type:1 children:1\n",
      "------------------------------------------ version:4 type:0 children:1\n",
      "------------------------------------------- version:5 type:1 children:1\n",
      "-------------------------------------------- version:0 type:0 children:1\n",
      "--------------------------------------------- version:5 type:4 children:0\n",
      "------------------------- version:7 type:1 children:8\n",
      "-------------------------- version:1 type:7 children:2\n",
      "--------------------------- version:0 type:4 children:0\n",
      "--------------------------- version:7 type:4 children:0\n",
      "-------------------------- version:0 type:4 children:0\n",
      "-------------------------- version:3 type:0 children:1\n",
      "--------------------------- version:0 type:1 children:5\n",
      "---------------------------- version:2 type:4 children:0\n",
      "---------------------------- version:4 type:4 children:0\n",
      "---------------------------- version:7 type:4 children:0\n",
      "---------------------------- version:3 type:1 children:3\n",
      "----------------------------- version:4 type:4 children:0\n",
      "----------------------------- version:3 type:4 children:0\n",
      "----------------------------- version:6 type:4 children:0\n",
      "---------------------------- version:1 type:1 children:3\n",
      "----------------------------- version:4 type:4 children:0\n",
      "----------------------------- version:4 type:4 children:0\n",
      "----------------------------- version:2 type:4 children:0\n",
      "-------------------------- version:2 type:3 children:1\n",
      "--------------------------- version:3 type:4 children:0\n",
      "-------------------------- version:1 type:4 children:0\n",
      "-------------------------- version:3 type:0 children:3\n",
      "--------------------------- version:3 type:4 children:0\n",
      "--------------------------- version:7 type:4 children:0\n",
      "--------------------------- version:4 type:4 children:0\n",
      "-------------------------- version:0 type:4 children:0\n",
      "-------------------------- version:0 type:3 children:4\n",
      "--------------------------- version:2 type:4 children:0\n",
      "--------------------------- version:1 type:4 children:0\n",
      "--------------------------- version:4 type:1 children:1\n",
      "---------------------------- version:6 type:7 children:1\n",
      "----------------------------- version:7 type:0 children:5\n",
      "------------------------------ version:2 type:4 children:0\n",
      "------------------------------ version:3 type:4 children:0\n",
      "------------------------------ version:3 type:4 children:0\n",
      "------------------------------ version:7 type:0 children:3\n",
      "------------------------------- version:7 type:4 children:0\n",
      "------------------------------- version:2 type:4 children:0\n",
      "------------------------------- version:6 type:4 children:0\n",
      "------------------------------ version:2 type:4 children:0\n",
      "--------------------------- version:2 type:2 children:3\n",
      "---------------------------- version:2 type:4 children:0\n",
      "---------------------------- version:4 type:4 children:0\n",
      "---------------------------- version:4 type:4 children:0\n"
     ]
    },
    {
     "ename": "IndexError",
     "evalue": "list index out of range",
     "output_type": "error",
     "traceback": [
      "\u001b[1;31m---------------------------------------------------------------------------\u001b[0m",
      "\u001b[1;31mIndexError\u001b[0m                                Traceback (most recent call last)",
      "\u001b[1;32m<ipython-input-159-7a982868115e>\u001b[0m in \u001b[0;36m<module>\u001b[1;34m\u001b[0m\n\u001b[1;32m----> 1\u001b[1;33m \u001b[0mresolveTheMessage\u001b[0m\u001b[1;33m(\u001b[0m\u001b[0mpuzzleData\u001b[0m\u001b[1;33m)\u001b[0m\u001b[1;33m\u001b[0m\u001b[1;33m\u001b[0m\u001b[0m\n\u001b[0m",
      "\u001b[1;32m<ipython-input-134-92046fe5c411>\u001b[0m in \u001b[0;36mresolveTheMessage\u001b[1;34m(data)\u001b[0m\n\u001b[0;32m      5\u001b[0m     \u001b[0mprintNodes\u001b[0m\u001b[1;33m(\u001b[0m\u001b[0mrootNode\u001b[0m\u001b[1;33m)\u001b[0m\u001b[1;33m\u001b[0m\u001b[1;33m\u001b[0m\u001b[0m\n\u001b[0;32m      6\u001b[0m     \u001b[0mstart\u001b[0m \u001b[1;33m=\u001b[0m \u001b[0mtimer\u001b[0m\u001b[1;33m(\u001b[0m\u001b[1;33m)\u001b[0m\u001b[1;33m\u001b[0m\u001b[1;33m\u001b[0m\u001b[0m\n\u001b[1;32m----> 7\u001b[1;33m     \u001b[0mresult\u001b[0m \u001b[1;33m=\u001b[0m \u001b[0mresolveNode\u001b[0m\u001b[1;33m(\u001b[0m\u001b[0mrootNode\u001b[0m\u001b[1;33m)\u001b[0m\u001b[1;33m\u001b[0m\u001b[1;33m\u001b[0m\u001b[0m\n\u001b[0m\u001b[0;32m      8\u001b[0m     \u001b[0mend\u001b[0m \u001b[1;33m=\u001b[0m \u001b[0mtimer\u001b[0m\u001b[1;33m(\u001b[0m\u001b[1;33m)\u001b[0m\u001b[1;33m\u001b[0m\u001b[1;33m\u001b[0m\u001b[0m\n\u001b[0;32m      9\u001b[0m     \u001b[0mprint\u001b[0m\u001b[1;33m(\u001b[0m\u001b[1;34m\"run time: \"\u001b[0m\u001b[1;33m+\u001b[0m\u001b[1;34m\"{:10.7f}\"\u001b[0m\u001b[1;33m.\u001b[0m\u001b[0mformat\u001b[0m\u001b[1;33m(\u001b[0m\u001b[0mend\u001b[0m\u001b[1;33m-\u001b[0m\u001b[0mstart\u001b[0m\u001b[1;33m)\u001b[0m\u001b[1;33m)\u001b[0m\u001b[1;33m\u001b[0m\u001b[1;33m\u001b[0m\u001b[0m\n",
      "\u001b[1;32m<ipython-input-134-92046fe5c411>\u001b[0m in \u001b[0;36mresolveNode\u001b[1;34m(node)\u001b[0m\n\u001b[0;32m     12\u001b[0m \u001b[1;32mdef\u001b[0m \u001b[0mresolveNode\u001b[0m\u001b[1;33m(\u001b[0m\u001b[0mnode\u001b[0m\u001b[1;33m)\u001b[0m\u001b[1;33m:\u001b[0m\u001b[1;33m\u001b[0m\u001b[1;33m\u001b[0m\u001b[0m\n\u001b[0;32m     13\u001b[0m     \u001b[1;32mif\u001b[0m \u001b[0mnode\u001b[0m\u001b[1;33m.\u001b[0m\u001b[0mtype\u001b[0m \u001b[1;33m==\u001b[0m \u001b[1;36m0\u001b[0m\u001b[1;33m:\u001b[0m\u001b[1;33m\u001b[0m\u001b[1;33m\u001b[0m\u001b[0m\n\u001b[1;32m---> 14\u001b[1;33m         \u001b[1;32mreturn\u001b[0m \u001b[0msum\u001b[0m\u001b[1;33m(\u001b[0m\u001b[1;33m[\u001b[0m\u001b[0mresolveNode\u001b[0m\u001b[1;33m(\u001b[0m\u001b[0mpacket\u001b[0m\u001b[1;33m)\u001b[0m \u001b[1;32mfor\u001b[0m \u001b[0mpacket\u001b[0m \u001b[1;32min\u001b[0m \u001b[0mnode\u001b[0m\u001b[1;33m.\u001b[0m\u001b[0mpackets\u001b[0m\u001b[1;33m]\u001b[0m\u001b[1;33m)\u001b[0m\u001b[1;33m\u001b[0m\u001b[1;33m\u001b[0m\u001b[0m\n\u001b[0m\u001b[0;32m     15\u001b[0m     \u001b[1;32mif\u001b[0m \u001b[0mnode\u001b[0m\u001b[1;33m.\u001b[0m\u001b[0mtype\u001b[0m \u001b[1;33m==\u001b[0m \u001b[1;36m1\u001b[0m\u001b[1;33m:\u001b[0m\u001b[1;33m\u001b[0m\u001b[1;33m\u001b[0m\u001b[0m\n\u001b[0;32m     16\u001b[0m         \u001b[1;32mreturn\u001b[0m \u001b[0mint\u001b[0m\u001b[1;33m(\u001b[0m\u001b[0mnumpy\u001b[0m\u001b[1;33m.\u001b[0m\u001b[0mprod\u001b[0m\u001b[1;33m(\u001b[0m\u001b[1;33m[\u001b[0m\u001b[0mresolveNode\u001b[0m\u001b[1;33m(\u001b[0m\u001b[0mpacket\u001b[0m\u001b[1;33m)\u001b[0m \u001b[1;32mfor\u001b[0m \u001b[0mpacket\u001b[0m \u001b[1;32min\u001b[0m \u001b[0mnode\u001b[0m\u001b[1;33m.\u001b[0m\u001b[0mpackets\u001b[0m\u001b[1;33m]\u001b[0m\u001b[1;33m)\u001b[0m\u001b[1;33m)\u001b[0m\u001b[1;33m\u001b[0m\u001b[1;33m\u001b[0m\u001b[0m\n",
      "\u001b[1;32m<ipython-input-134-92046fe5c411>\u001b[0m in \u001b[0;36m<listcomp>\u001b[1;34m(.0)\u001b[0m\n\u001b[0;32m     12\u001b[0m \u001b[1;32mdef\u001b[0m \u001b[0mresolveNode\u001b[0m\u001b[1;33m(\u001b[0m\u001b[0mnode\u001b[0m\u001b[1;33m)\u001b[0m\u001b[1;33m:\u001b[0m\u001b[1;33m\u001b[0m\u001b[1;33m\u001b[0m\u001b[0m\n\u001b[0;32m     13\u001b[0m     \u001b[1;32mif\u001b[0m \u001b[0mnode\u001b[0m\u001b[1;33m.\u001b[0m\u001b[0mtype\u001b[0m \u001b[1;33m==\u001b[0m \u001b[1;36m0\u001b[0m\u001b[1;33m:\u001b[0m\u001b[1;33m\u001b[0m\u001b[1;33m\u001b[0m\u001b[0m\n\u001b[1;32m---> 14\u001b[1;33m         \u001b[1;32mreturn\u001b[0m \u001b[0msum\u001b[0m\u001b[1;33m(\u001b[0m\u001b[1;33m[\u001b[0m\u001b[0mresolveNode\u001b[0m\u001b[1;33m(\u001b[0m\u001b[0mpacket\u001b[0m\u001b[1;33m)\u001b[0m \u001b[1;32mfor\u001b[0m \u001b[0mpacket\u001b[0m \u001b[1;32min\u001b[0m \u001b[0mnode\u001b[0m\u001b[1;33m.\u001b[0m\u001b[0mpackets\u001b[0m\u001b[1;33m]\u001b[0m\u001b[1;33m)\u001b[0m\u001b[1;33m\u001b[0m\u001b[1;33m\u001b[0m\u001b[0m\n\u001b[0m\u001b[0;32m     15\u001b[0m     \u001b[1;32mif\u001b[0m \u001b[0mnode\u001b[0m\u001b[1;33m.\u001b[0m\u001b[0mtype\u001b[0m \u001b[1;33m==\u001b[0m \u001b[1;36m1\u001b[0m\u001b[1;33m:\u001b[0m\u001b[1;33m\u001b[0m\u001b[1;33m\u001b[0m\u001b[0m\n\u001b[0;32m     16\u001b[0m         \u001b[1;32mreturn\u001b[0m \u001b[0mint\u001b[0m\u001b[1;33m(\u001b[0m\u001b[0mnumpy\u001b[0m\u001b[1;33m.\u001b[0m\u001b[0mprod\u001b[0m\u001b[1;33m(\u001b[0m\u001b[1;33m[\u001b[0m\u001b[0mresolveNode\u001b[0m\u001b[1;33m(\u001b[0m\u001b[0mpacket\u001b[0m\u001b[1;33m)\u001b[0m \u001b[1;32mfor\u001b[0m \u001b[0mpacket\u001b[0m \u001b[1;32min\u001b[0m \u001b[0mnode\u001b[0m\u001b[1;33m.\u001b[0m\u001b[0mpackets\u001b[0m\u001b[1;33m]\u001b[0m\u001b[1;33m)\u001b[0m\u001b[1;33m)\u001b[0m\u001b[1;33m\u001b[0m\u001b[1;33m\u001b[0m\u001b[0m\n",
      "\u001b[1;32m<ipython-input-134-92046fe5c411>\u001b[0m in \u001b[0;36mresolveNode\u001b[1;34m(node)\u001b[0m\n\u001b[0;32m     14\u001b[0m         \u001b[1;32mreturn\u001b[0m \u001b[0msum\u001b[0m\u001b[1;33m(\u001b[0m\u001b[1;33m[\u001b[0m\u001b[0mresolveNode\u001b[0m\u001b[1;33m(\u001b[0m\u001b[0mpacket\u001b[0m\u001b[1;33m)\u001b[0m \u001b[1;32mfor\u001b[0m \u001b[0mpacket\u001b[0m \u001b[1;32min\u001b[0m \u001b[0mnode\u001b[0m\u001b[1;33m.\u001b[0m\u001b[0mpackets\u001b[0m\u001b[1;33m]\u001b[0m\u001b[1;33m)\u001b[0m\u001b[1;33m\u001b[0m\u001b[1;33m\u001b[0m\u001b[0m\n\u001b[0;32m     15\u001b[0m     \u001b[1;32mif\u001b[0m \u001b[0mnode\u001b[0m\u001b[1;33m.\u001b[0m\u001b[0mtype\u001b[0m \u001b[1;33m==\u001b[0m \u001b[1;36m1\u001b[0m\u001b[1;33m:\u001b[0m\u001b[1;33m\u001b[0m\u001b[1;33m\u001b[0m\u001b[0m\n\u001b[1;32m---> 16\u001b[1;33m         \u001b[1;32mreturn\u001b[0m \u001b[0mint\u001b[0m\u001b[1;33m(\u001b[0m\u001b[0mnumpy\u001b[0m\u001b[1;33m.\u001b[0m\u001b[0mprod\u001b[0m\u001b[1;33m(\u001b[0m\u001b[1;33m[\u001b[0m\u001b[0mresolveNode\u001b[0m\u001b[1;33m(\u001b[0m\u001b[0mpacket\u001b[0m\u001b[1;33m)\u001b[0m \u001b[1;32mfor\u001b[0m \u001b[0mpacket\u001b[0m \u001b[1;32min\u001b[0m \u001b[0mnode\u001b[0m\u001b[1;33m.\u001b[0m\u001b[0mpackets\u001b[0m\u001b[1;33m]\u001b[0m\u001b[1;33m)\u001b[0m\u001b[1;33m)\u001b[0m\u001b[1;33m\u001b[0m\u001b[1;33m\u001b[0m\u001b[0m\n\u001b[0m\u001b[0;32m     17\u001b[0m     \u001b[1;32mif\u001b[0m \u001b[0mnode\u001b[0m\u001b[1;33m.\u001b[0m\u001b[0mtype\u001b[0m \u001b[1;33m==\u001b[0m \u001b[1;36m2\u001b[0m\u001b[1;33m:\u001b[0m\u001b[1;33m\u001b[0m\u001b[1;33m\u001b[0m\u001b[0m\n\u001b[0;32m     18\u001b[0m         \u001b[1;32mreturn\u001b[0m \u001b[0mmin\u001b[0m\u001b[1;33m(\u001b[0m\u001b[1;33m[\u001b[0m\u001b[0mresolveNode\u001b[0m\u001b[1;33m(\u001b[0m\u001b[0mpacket\u001b[0m\u001b[1;33m)\u001b[0m \u001b[1;32mfor\u001b[0m \u001b[0mpacket\u001b[0m \u001b[1;32min\u001b[0m \u001b[0mnode\u001b[0m\u001b[1;33m.\u001b[0m\u001b[0mpackets\u001b[0m\u001b[1;33m]\u001b[0m\u001b[1;33m)\u001b[0m\u001b[1;33m\u001b[0m\u001b[1;33m\u001b[0m\u001b[0m\n",
      "\u001b[1;32m<ipython-input-134-92046fe5c411>\u001b[0m in \u001b[0;36m<listcomp>\u001b[1;34m(.0)\u001b[0m\n\u001b[0;32m     14\u001b[0m         \u001b[1;32mreturn\u001b[0m \u001b[0msum\u001b[0m\u001b[1;33m(\u001b[0m\u001b[1;33m[\u001b[0m\u001b[0mresolveNode\u001b[0m\u001b[1;33m(\u001b[0m\u001b[0mpacket\u001b[0m\u001b[1;33m)\u001b[0m \u001b[1;32mfor\u001b[0m \u001b[0mpacket\u001b[0m \u001b[1;32min\u001b[0m \u001b[0mnode\u001b[0m\u001b[1;33m.\u001b[0m\u001b[0mpackets\u001b[0m\u001b[1;33m]\u001b[0m\u001b[1;33m)\u001b[0m\u001b[1;33m\u001b[0m\u001b[1;33m\u001b[0m\u001b[0m\n\u001b[0;32m     15\u001b[0m     \u001b[1;32mif\u001b[0m \u001b[0mnode\u001b[0m\u001b[1;33m.\u001b[0m\u001b[0mtype\u001b[0m \u001b[1;33m==\u001b[0m \u001b[1;36m1\u001b[0m\u001b[1;33m:\u001b[0m\u001b[1;33m\u001b[0m\u001b[1;33m\u001b[0m\u001b[0m\n\u001b[1;32m---> 16\u001b[1;33m         \u001b[1;32mreturn\u001b[0m \u001b[0mint\u001b[0m\u001b[1;33m(\u001b[0m\u001b[0mnumpy\u001b[0m\u001b[1;33m.\u001b[0m\u001b[0mprod\u001b[0m\u001b[1;33m(\u001b[0m\u001b[1;33m[\u001b[0m\u001b[0mresolveNode\u001b[0m\u001b[1;33m(\u001b[0m\u001b[0mpacket\u001b[0m\u001b[1;33m)\u001b[0m \u001b[1;32mfor\u001b[0m \u001b[0mpacket\u001b[0m \u001b[1;32min\u001b[0m \u001b[0mnode\u001b[0m\u001b[1;33m.\u001b[0m\u001b[0mpackets\u001b[0m\u001b[1;33m]\u001b[0m\u001b[1;33m)\u001b[0m\u001b[1;33m)\u001b[0m\u001b[1;33m\u001b[0m\u001b[1;33m\u001b[0m\u001b[0m\n\u001b[0m\u001b[0;32m     17\u001b[0m     \u001b[1;32mif\u001b[0m \u001b[0mnode\u001b[0m\u001b[1;33m.\u001b[0m\u001b[0mtype\u001b[0m \u001b[1;33m==\u001b[0m \u001b[1;36m2\u001b[0m\u001b[1;33m:\u001b[0m\u001b[1;33m\u001b[0m\u001b[1;33m\u001b[0m\u001b[0m\n\u001b[0;32m     18\u001b[0m         \u001b[1;32mreturn\u001b[0m \u001b[0mmin\u001b[0m\u001b[1;33m(\u001b[0m\u001b[1;33m[\u001b[0m\u001b[0mresolveNode\u001b[0m\u001b[1;33m(\u001b[0m\u001b[0mpacket\u001b[0m\u001b[1;33m)\u001b[0m \u001b[1;32mfor\u001b[0m \u001b[0mpacket\u001b[0m \u001b[1;32min\u001b[0m \u001b[0mnode\u001b[0m\u001b[1;33m.\u001b[0m\u001b[0mpackets\u001b[0m\u001b[1;33m]\u001b[0m\u001b[1;33m)\u001b[0m\u001b[1;33m\u001b[0m\u001b[1;33m\u001b[0m\u001b[0m\n",
      "\u001b[1;32m<ipython-input-134-92046fe5c411>\u001b[0m in \u001b[0;36mresolveNode\u001b[1;34m(node)\u001b[0m\n\u001b[0;32m     14\u001b[0m         \u001b[1;32mreturn\u001b[0m \u001b[0msum\u001b[0m\u001b[1;33m(\u001b[0m\u001b[1;33m[\u001b[0m\u001b[0mresolveNode\u001b[0m\u001b[1;33m(\u001b[0m\u001b[0mpacket\u001b[0m\u001b[1;33m)\u001b[0m \u001b[1;32mfor\u001b[0m \u001b[0mpacket\u001b[0m \u001b[1;32min\u001b[0m \u001b[0mnode\u001b[0m\u001b[1;33m.\u001b[0m\u001b[0mpackets\u001b[0m\u001b[1;33m]\u001b[0m\u001b[1;33m)\u001b[0m\u001b[1;33m\u001b[0m\u001b[1;33m\u001b[0m\u001b[0m\n\u001b[0;32m     15\u001b[0m     \u001b[1;32mif\u001b[0m \u001b[0mnode\u001b[0m\u001b[1;33m.\u001b[0m\u001b[0mtype\u001b[0m \u001b[1;33m==\u001b[0m \u001b[1;36m1\u001b[0m\u001b[1;33m:\u001b[0m\u001b[1;33m\u001b[0m\u001b[1;33m\u001b[0m\u001b[0m\n\u001b[1;32m---> 16\u001b[1;33m         \u001b[1;32mreturn\u001b[0m \u001b[0mint\u001b[0m\u001b[1;33m(\u001b[0m\u001b[0mnumpy\u001b[0m\u001b[1;33m.\u001b[0m\u001b[0mprod\u001b[0m\u001b[1;33m(\u001b[0m\u001b[1;33m[\u001b[0m\u001b[0mresolveNode\u001b[0m\u001b[1;33m(\u001b[0m\u001b[0mpacket\u001b[0m\u001b[1;33m)\u001b[0m \u001b[1;32mfor\u001b[0m \u001b[0mpacket\u001b[0m \u001b[1;32min\u001b[0m \u001b[0mnode\u001b[0m\u001b[1;33m.\u001b[0m\u001b[0mpackets\u001b[0m\u001b[1;33m]\u001b[0m\u001b[1;33m)\u001b[0m\u001b[1;33m)\u001b[0m\u001b[1;33m\u001b[0m\u001b[1;33m\u001b[0m\u001b[0m\n\u001b[0m\u001b[0;32m     17\u001b[0m     \u001b[1;32mif\u001b[0m \u001b[0mnode\u001b[0m\u001b[1;33m.\u001b[0m\u001b[0mtype\u001b[0m \u001b[1;33m==\u001b[0m \u001b[1;36m2\u001b[0m\u001b[1;33m:\u001b[0m\u001b[1;33m\u001b[0m\u001b[1;33m\u001b[0m\u001b[0m\n\u001b[0;32m     18\u001b[0m         \u001b[1;32mreturn\u001b[0m \u001b[0mmin\u001b[0m\u001b[1;33m(\u001b[0m\u001b[1;33m[\u001b[0m\u001b[0mresolveNode\u001b[0m\u001b[1;33m(\u001b[0m\u001b[0mpacket\u001b[0m\u001b[1;33m)\u001b[0m \u001b[1;32mfor\u001b[0m \u001b[0mpacket\u001b[0m \u001b[1;32min\u001b[0m \u001b[0mnode\u001b[0m\u001b[1;33m.\u001b[0m\u001b[0mpackets\u001b[0m\u001b[1;33m]\u001b[0m\u001b[1;33m)\u001b[0m\u001b[1;33m\u001b[0m\u001b[1;33m\u001b[0m\u001b[0m\n",
      "\u001b[1;32m<ipython-input-134-92046fe5c411>\u001b[0m in \u001b[0;36m<listcomp>\u001b[1;34m(.0)\u001b[0m\n\u001b[0;32m     14\u001b[0m         \u001b[1;32mreturn\u001b[0m \u001b[0msum\u001b[0m\u001b[1;33m(\u001b[0m\u001b[1;33m[\u001b[0m\u001b[0mresolveNode\u001b[0m\u001b[1;33m(\u001b[0m\u001b[0mpacket\u001b[0m\u001b[1;33m)\u001b[0m \u001b[1;32mfor\u001b[0m \u001b[0mpacket\u001b[0m \u001b[1;32min\u001b[0m \u001b[0mnode\u001b[0m\u001b[1;33m.\u001b[0m\u001b[0mpackets\u001b[0m\u001b[1;33m]\u001b[0m\u001b[1;33m)\u001b[0m\u001b[1;33m\u001b[0m\u001b[1;33m\u001b[0m\u001b[0m\n\u001b[0;32m     15\u001b[0m     \u001b[1;32mif\u001b[0m \u001b[0mnode\u001b[0m\u001b[1;33m.\u001b[0m\u001b[0mtype\u001b[0m \u001b[1;33m==\u001b[0m \u001b[1;36m1\u001b[0m\u001b[1;33m:\u001b[0m\u001b[1;33m\u001b[0m\u001b[1;33m\u001b[0m\u001b[0m\n\u001b[1;32m---> 16\u001b[1;33m         \u001b[1;32mreturn\u001b[0m \u001b[0mint\u001b[0m\u001b[1;33m(\u001b[0m\u001b[0mnumpy\u001b[0m\u001b[1;33m.\u001b[0m\u001b[0mprod\u001b[0m\u001b[1;33m(\u001b[0m\u001b[1;33m[\u001b[0m\u001b[0mresolveNode\u001b[0m\u001b[1;33m(\u001b[0m\u001b[0mpacket\u001b[0m\u001b[1;33m)\u001b[0m \u001b[1;32mfor\u001b[0m \u001b[0mpacket\u001b[0m \u001b[1;32min\u001b[0m \u001b[0mnode\u001b[0m\u001b[1;33m.\u001b[0m\u001b[0mpackets\u001b[0m\u001b[1;33m]\u001b[0m\u001b[1;33m)\u001b[0m\u001b[1;33m)\u001b[0m\u001b[1;33m\u001b[0m\u001b[1;33m\u001b[0m\u001b[0m\n\u001b[0m\u001b[0;32m     17\u001b[0m     \u001b[1;32mif\u001b[0m \u001b[0mnode\u001b[0m\u001b[1;33m.\u001b[0m\u001b[0mtype\u001b[0m \u001b[1;33m==\u001b[0m \u001b[1;36m2\u001b[0m\u001b[1;33m:\u001b[0m\u001b[1;33m\u001b[0m\u001b[1;33m\u001b[0m\u001b[0m\n\u001b[0;32m     18\u001b[0m         \u001b[1;32mreturn\u001b[0m \u001b[0mmin\u001b[0m\u001b[1;33m(\u001b[0m\u001b[1;33m[\u001b[0m\u001b[0mresolveNode\u001b[0m\u001b[1;33m(\u001b[0m\u001b[0mpacket\u001b[0m\u001b[1;33m)\u001b[0m \u001b[1;32mfor\u001b[0m \u001b[0mpacket\u001b[0m \u001b[1;32min\u001b[0m \u001b[0mnode\u001b[0m\u001b[1;33m.\u001b[0m\u001b[0mpackets\u001b[0m\u001b[1;33m]\u001b[0m\u001b[1;33m)\u001b[0m\u001b[1;33m\u001b[0m\u001b[1;33m\u001b[0m\u001b[0m\n",
      "\u001b[1;32m<ipython-input-134-92046fe5c411>\u001b[0m in \u001b[0;36mresolveNode\u001b[1;34m(node)\u001b[0m\n\u001b[0;32m     24\u001b[0m         \u001b[1;32mreturn\u001b[0m \u001b[1;36m1\u001b[0m \u001b[1;32mif\u001b[0m \u001b[0mresolveNode\u001b[0m\u001b[1;33m(\u001b[0m\u001b[0mnode\u001b[0m\u001b[1;33m.\u001b[0m\u001b[0mpackets\u001b[0m\u001b[1;33m[\u001b[0m\u001b[1;36m0\u001b[0m\u001b[1;33m]\u001b[0m\u001b[1;33m)\u001b[0m \u001b[1;33m>\u001b[0m \u001b[0mresolveNode\u001b[0m\u001b[1;33m(\u001b[0m\u001b[0mnode\u001b[0m\u001b[1;33m.\u001b[0m\u001b[0mpackets\u001b[0m\u001b[1;33m[\u001b[0m\u001b[1;36m1\u001b[0m\u001b[1;33m]\u001b[0m\u001b[1;33m)\u001b[0m \u001b[1;32melse\u001b[0m \u001b[1;36m0\u001b[0m\u001b[1;33m\u001b[0m\u001b[1;33m\u001b[0m\u001b[0m\n\u001b[0;32m     25\u001b[0m     \u001b[1;32mif\u001b[0m \u001b[0mnode\u001b[0m\u001b[1;33m.\u001b[0m\u001b[0mtype\u001b[0m \u001b[1;33m==\u001b[0m \u001b[1;36m6\u001b[0m\u001b[1;33m:\u001b[0m\u001b[1;33m\u001b[0m\u001b[1;33m\u001b[0m\u001b[0m\n\u001b[1;32m---> 26\u001b[1;33m         \u001b[1;32mreturn\u001b[0m \u001b[1;36m1\u001b[0m \u001b[1;32mif\u001b[0m \u001b[0mresolveNode\u001b[0m\u001b[1;33m(\u001b[0m\u001b[0mnode\u001b[0m\u001b[1;33m.\u001b[0m\u001b[0mpackets\u001b[0m\u001b[1;33m[\u001b[0m\u001b[1;36m0\u001b[0m\u001b[1;33m]\u001b[0m\u001b[1;33m)\u001b[0m \u001b[1;33m<\u001b[0m \u001b[0mresolveNode\u001b[0m\u001b[1;33m(\u001b[0m\u001b[0mnode\u001b[0m\u001b[1;33m.\u001b[0m\u001b[0mpackets\u001b[0m\u001b[1;33m[\u001b[0m\u001b[1;36m1\u001b[0m\u001b[1;33m]\u001b[0m\u001b[1;33m)\u001b[0m \u001b[1;32melse\u001b[0m \u001b[1;36m0\u001b[0m\u001b[1;33m\u001b[0m\u001b[1;33m\u001b[0m\u001b[0m\n\u001b[0m\u001b[0;32m     27\u001b[0m     \u001b[1;32mif\u001b[0m \u001b[0mnode\u001b[0m\u001b[1;33m.\u001b[0m\u001b[0mtype\u001b[0m \u001b[1;33m==\u001b[0m \u001b[1;36m7\u001b[0m\u001b[1;33m:\u001b[0m\u001b[1;33m\u001b[0m\u001b[1;33m\u001b[0m\u001b[0m\n\u001b[0;32m     28\u001b[0m         \u001b[1;32mreturn\u001b[0m \u001b[1;36m1\u001b[0m \u001b[1;32mif\u001b[0m \u001b[0mresolveNode\u001b[0m\u001b[1;33m(\u001b[0m\u001b[0mnode\u001b[0m\u001b[1;33m.\u001b[0m\u001b[0mpackets\u001b[0m\u001b[1;33m[\u001b[0m\u001b[1;36m0\u001b[0m\u001b[1;33m]\u001b[0m\u001b[1;33m)\u001b[0m \u001b[1;33m==\u001b[0m \u001b[0mresolveNode\u001b[0m\u001b[1;33m(\u001b[0m\u001b[0mnode\u001b[0m\u001b[1;33m.\u001b[0m\u001b[0mpackets\u001b[0m\u001b[1;33m[\u001b[0m\u001b[1;36m1\u001b[0m\u001b[1;33m]\u001b[0m\u001b[1;33m)\u001b[0m \u001b[1;32melse\u001b[0m \u001b[1;36m0\u001b[0m\u001b[1;33m\u001b[0m\u001b[1;33m\u001b[0m\u001b[0m\n",
      "\u001b[1;31mIndexError\u001b[0m: list index out of range"
     ]
    }
   ],
   "source": [
    "resolveTheMessage(puzzleData)"
   ]
  },
  {
   "cell_type": "markdown",
   "metadata": {},
   "source": [
    "## Utilities"
   ]
  },
  {
   "cell_type": "code",
   "execution_count": 165,
   "metadata": {},
   "outputs": [],
   "source": [
    "def printNodes(rootNode, prepend = ''):\n",
    "    print(prepend+\" version:{} type:{} children:{} number: {}\".format(rootNode.version, rootNode.type, len(rootNode.packets), rootNode.number))\n",
    "    [printNodes(node, prepend+'-') for node in rootNode.packets]"
   ]
  },
  {
   "cell_type": "code",
   "execution_count": null,
   "metadata": {},
   "outputs": [],
   "source": []
  },
  {
   "cell_type": "code",
   "execution_count": null,
   "metadata": {},
   "outputs": [],
   "source": []
  }
 ],
 "metadata": {
  "kernelspec": {
   "display_name": "Python 3",
   "language": "python",
   "name": "python3"
  },
  "language_info": {
   "codemirror_mode": {
    "name": "ipython",
    "version": 3
   },
   "file_extension": ".py",
   "mimetype": "text/x-python",
   "name": "python",
   "nbconvert_exporter": "python",
   "pygments_lexer": "ipython3",
   "version": "3.7.2"
  }
 },
 "nbformat": 4,
 "nbformat_minor": 4
}
