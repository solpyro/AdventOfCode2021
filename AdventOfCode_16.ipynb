{
 "cells": [
  {
   "cell_type": "markdown",
   "metadata": {},
   "source": [
    "# Day 16: Packet Decoder\n",
    "\n",
    "## Data"
   ]
  },
  {
   "cell_type": "code",
   "execution_count": 87,
   "metadata": {},
   "outputs": [],
   "source": [
    "puzzleData = \"E20D79005573F71DA0054E48527EF97D3004653BB1FC006867A8B1371AC49C801039171941340066E6B99A6A58B8110088BA008CE6F7893D4E6F7893DCDCFDB9D6CBC4026FE8026200DC7D84B1C00010A89507E3CCEE37B592014D3C01491B6697A83CB4F59E5E7FFA5CC66D4BC6F05D3004E6BB742B004E7E6B3375A46CF91D8C027911797589E17920F4009BE72DA8D2E4523DCEE86A8018C4AD3C7F2D2D02C5B9FF53366E3004658DB0012A963891D168801D08480485B005C0010A883116308002171AA24C679E0394EB898023331E60AB401294D98CA6CD8C01D9B349E0A99363003E655D40289CBDBB2F55D25E53ECAF14D9ABBB4CC726F038C011B0044401987D0BE0C00021B04E2546499DE824C015B004A7755B570013F2DD8627C65C02186F2996E9CCD04E5718C5CBCC016B004A4F61B27B0D9B8633F9344D57B0C1D3805537ADFA21F231C6EC9F3D3089FF7CD25E5941200C96801F191C77091238EE13A704A7CCC802B3B00567F192296259ABD9C400282915B9F6E98879823046C0010C626C966A19351EE27DE86C8E6968F2BE3D2008EE540FC01196989CD9410055725480D60025737BA1547D700727B9A89B444971830070401F8D70BA3B8803F16A3FC2D00043621C3B8A733C8BD880212BCDEE9D34929164D5CB08032594E5E1D25C0055E5B771E966783240220CD19E802E200F4588450BC401A8FB14E0A1805B36F3243B2833247536B70BDC00A60348880C7730039400B402A91009F650028C00E2020918077610021C00C1002D80512601188803B4000C148025010036727EE5AD6B445CC011E00B825E14F4BBF5F97853D2EFD6256F8FFE9F3B001420C01A88915E259002191EE2F4392004323E44A8B4C0069CEF34D304C001AB94379D149BD904507004A6D466B618402477802E200D47383719C0010F8A507A294CC9C90024A967C9995EE2933BA840\""
   ]
  },
  {
   "cell_type": "code",
   "execution_count": 1,
   "metadata": {},
   "outputs": [],
   "source": [
    "testData1 = \"8A004A801A8002F478\""
   ]
  },
  {
   "cell_type": "code",
   "execution_count": 78,
   "metadata": {},
   "outputs": [],
   "source": [
    "testData2 = \"620080001611562C8802118E34\""
   ]
  },
  {
   "cell_type": "code",
   "execution_count": 3,
   "metadata": {},
   "outputs": [],
   "source": [
    "testData3 = \"C0015000016115A2E0802F182340\""
   ]
  },
  {
   "cell_type": "code",
   "execution_count": 4,
   "metadata": {},
   "outputs": [],
   "source": [
    "testData4 = \"A0016C880162017C3686B18A3D4780\""
   ]
  },
  {
   "cell_type": "markdown",
   "metadata": {},
   "source": [
    "## Parse data"
   ]
  },
  {
   "cell_type": "code",
   "execution_count": 71,
   "metadata": {},
   "outputs": [],
   "source": [
    "from timeit import default_timer as timer\n",
    "\n",
    "def parseData(data):\n",
    "    start = timer()\n",
    "    bitstream = hexToBin(data)\n",
    "    rootPacket, foo = parsePacket(bitstream)\n",
    "    end = timer()\n",
    "    print(\"parse time: \"+\"{:10.7f}\".format(end-start))\n",
    "    return rootPacket\n",
    "\n",
    "def hexToBin(hexstream):\n",
    "    return \"{0:b}\".format(int(hexstream,16),2)\n",
    "\n",
    "def parsePacket(bitstream):\n",
    "    version = int(bitstream[:3],2)\n",
    "    type = int(bitstream[3:6],2)\n",
    "    \n",
    "    packet = Packet(version,type)\n",
    "    \n",
    "    bitstream = bitstream[6:]\n",
    "    \n",
    "    if type is 4:\n",
    "        foundLastChunk = False\n",
    "        numberbits = ''\n",
    "        # discard leading 0s\n",
    "        while not foundLastChunk:\n",
    "            chunk = bitstream[:5]\n",
    "            bitstream = bitstream[5:]\n",
    "            numberbits += chunk[1:]\n",
    "            if chunk[0] == '0':\n",
    "                foundLastChunk = True\n",
    "        packet.setNumber(int(numberbits,2))\n",
    "    else:\n",
    "        if bitstream[0] == '0':\n",
    "            subpacketsLength = int(bitstream[1:16],2)\n",
    "            subpackets = bitstream[16:subpacketsLength+16]\n",
    "            bitstream = bitstream[subpacketsLength+16:]\n",
    "            while len(subpackets) != 0 and not all(x == '0' for x in subpackets):\n",
    "                subpacket, subpackets = parsePacket(subpackets)\n",
    "                packet.addChildPacket(subpacket)\n",
    "        else:\n",
    "            subpacketsCount = int(bitstream[1:12])\n",
    "            bitstream = bitstream[12:]\n",
    "            for _ in range(subpacketsCount):\n",
    "                if len(bitstream) < 7:\n",
    "                    break\n",
    "                subpacket, bitstream = parsePacket(bitstream)\n",
    "                packet.addChildPacket(subpacket)\n",
    "    return packet, bitstream"
   ]
  },
  {
   "cell_type": "code",
   "execution_count": 72,
   "metadata": {},
   "outputs": [],
   "source": [
    "class Packet:\n",
    "    def __init__(self,v,t):\n",
    "        self.version = v    \n",
    "        self.type = t\n",
    "        self.packets = []\n",
    "    \n",
    "    def addChildPacket(self, packet):\n",
    "        self.packets.append(packet)\n",
    "    \n",
    "    def setNumber(self, n):\n",
    "        self.number = n"
   ]
  },
  {
   "cell_type": "markdown",
   "metadata": {},
   "source": [
    "## Part 1"
   ]
  },
  {
   "cell_type": "code",
   "execution_count": 89,
   "metadata": {},
   "outputs": [],
   "source": [
    "def sumAllVersionNumbers(data):\n",
    "    rootNode = parseData(data)\n",
    "    start = timer()\n",
    "    versionNumbers = getVersionNumbers(rootNode)\n",
    "    total = sum(versionNumbers)\n",
    "    end = timer()\n",
    "    print(\"run time: \"+\"{:10.7f}\".format(end-start))\n",
    "    print(total)\n",
    "    \n",
    "def getVersionNumbers(node):\n",
    "    versionNumbers = [node.version]\n",
    "    if len(node.packets) > 0:\n",
    "        for packet in node.packets:\n",
    "            versionNumbers.extend(getVersionNumbers(packet))\n",
    "    return versionNumbers"
   ]
  },
  {
   "cell_type": "code",
   "execution_count": 90,
   "metadata": {},
   "outputs": [
    {
     "name": "stdout",
     "output_type": "stream",
     "text": [
      "parse time:  0.0000594\n",
      "run time:  0.0000087\n",
      "16\n"
     ]
    }
   ],
   "source": [
    "sumAllVersionNumbers(testData1)"
   ]
  },
  {
   "cell_type": "code",
   "execution_count": 91,
   "metadata": {},
   "outputs": [
    {
     "name": "stdout",
     "output_type": "stream",
     "text": [
      "parse time:  0.0000723\n",
      "run time:  0.0000108\n",
      "9\n"
     ]
    }
   ],
   "source": [
    "sumAllVersionNumbers(testData2)"
   ]
  },
  {
   "cell_type": "code",
   "execution_count": 92,
   "metadata": {},
   "outputs": [
    {
     "name": "stdout",
     "output_type": "stream",
     "text": [
      "parse time:  0.0001019\n",
      "run time:  0.0000153\n",
      "23\n"
     ]
    }
   ],
   "source": [
    "sumAllVersionNumbers(testData3)"
   ]
  },
  {
   "cell_type": "code",
   "execution_count": 93,
   "metadata": {},
   "outputs": [
    {
     "name": "stdout",
     "output_type": "stream",
     "text": [
      "parse time:  0.0000468\n",
      "run time:  0.0000076\n",
      "31\n"
     ]
    }
   ],
   "source": [
    "sumAllVersionNumbers(testData4)"
   ]
  },
  {
   "cell_type": "code",
   "execution_count": 94,
   "metadata": {},
   "outputs": [
    {
     "name": "stdout",
     "output_type": "stream",
     "text": [
      "parse time:  0.0025020\n",
      "run time:  0.0003694\n",
      "951\n"
     ]
    }
   ],
   "source": [
    "sumAllVersionNumbers(puzzleData)"
   ]
  },
  {
   "cell_type": "markdown",
   "metadata": {},
   "source": [
    "## Part 2"
   ]
  },
  {
   "cell_type": "code",
   "execution_count": 7,
   "metadata": {},
   "outputs": [],
   "source": [
    "def doPart2(data):\n",
    "    parseData(data)\n",
    "    start = timer()\n",
    "    end = timer()\n",
    "    print(\"run time: \"+\"{:10.7f}\".format(end-start))"
   ]
  },
  {
   "cell_type": "code",
   "execution_count": 8,
   "metadata": {},
   "outputs": [
    {
     "name": "stdout",
     "output_type": "stream",
     "text": [
      "parse time:  0.0000008\n",
      "run time:  0.0000012\n"
     ]
    }
   ],
   "source": [
    "doPart2(testData)"
   ]
  },
  {
   "cell_type": "code",
   "execution_count": 9,
   "metadata": {},
   "outputs": [
    {
     "name": "stdout",
     "output_type": "stream",
     "text": [
      "parse time:  0.0000011\n",
      "run time:  0.0000007\n"
     ]
    }
   ],
   "source": [
    "doPart2(puzzleData)"
   ]
  },
  {
   "cell_type": "markdown",
   "metadata": {},
   "source": [
    "## Utilities"
   ]
  },
  {
   "cell_type": "code",
   "execution_count": 81,
   "metadata": {},
   "outputs": [],
   "source": [
    "def printNodes(rootNode, prepend = ''):\n",
    "    print(prepend+\" type:{} version:{} children:{}\".format(rootNode.type, rootNode.version, len(rootNode.packets)))\n",
    "    [printNodes(node, prepend+'-') for node in rootNode.packets]"
   ]
  },
  {
   "cell_type": "code",
   "execution_count": null,
   "metadata": {},
   "outputs": [],
   "source": []
  },
  {
   "cell_type": "code",
   "execution_count": null,
   "metadata": {},
   "outputs": [],
   "source": []
  }
 ],
 "metadata": {
  "kernelspec": {
   "display_name": "Python 3",
   "language": "python",
   "name": "python3"
  },
  "language_info": {
   "codemirror_mode": {
    "name": "ipython",
    "version": 3
   },
   "file_extension": ".py",
   "mimetype": "text/x-python",
   "name": "python",
   "nbconvert_exporter": "python",
   "pygments_lexer": "ipython3",
   "version": "3.7.2"
  }
 },
 "nbformat": 4,
 "nbformat_minor": 4
}
