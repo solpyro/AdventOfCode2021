{
 "cells": [
  {
   "cell_type": "markdown",
   "metadata": {},
   "source": [
    "# Day 12 : Passage Pathing\n",
    "\n",
    "## Data"
   ]
  },
  {
   "cell_type": "code",
   "execution_count": 60,
   "metadata": {},
   "outputs": [],
   "source": [
    "puzzleData = \"\"\"re-js\n",
    "qx-CG\n",
    "start-js\n",
    "start-bj\n",
    "qx-ak\n",
    "js-bj\n",
    "ak-re\n",
    "CG-ak\n",
    "js-CG\n",
    "bj-re\n",
    "ak-lg\n",
    "lg-CG\n",
    "qx-re\n",
    "WP-ak\n",
    "WP-end\n",
    "re-lg\n",
    "end-ak\n",
    "WP-re\n",
    "bj-CG\n",
    "qx-start\n",
    "bj-WP\n",
    "JG-lg\n",
    "end-lg\n",
    "lg-iw\"\"\""
   ]
  },
  {
   "cell_type": "code",
   "execution_count": 56,
   "metadata": {},
   "outputs": [],
   "source": [
    "testData1 = \"\"\"start-A\n",
    "start-b\n",
    "A-c\n",
    "A-b\n",
    "b-d\n",
    "A-end\n",
    "b-end\"\"\""
   ]
  },
  {
   "cell_type": "code",
   "execution_count": 53,
   "metadata": {},
   "outputs": [],
   "source": [
    "testData2 = \"\"\"dc-end\n",
    "HN-start\n",
    "start-kj\n",
    "dc-start\n",
    "dc-HN\n",
    "LN-dc\n",
    "HN-end\n",
    "kj-sa\n",
    "kj-HN\n",
    "kj-dc\"\"\""
   ]
  },
  {
   "cell_type": "code",
   "execution_count": 55,
   "metadata": {},
   "outputs": [],
   "source": [
    "testData3 = \"\"\"fs-end\n",
    "he-DX\n",
    "fs-he\n",
    "start-DX\n",
    "pj-DX\n",
    "end-zg\n",
    "zg-sl\n",
    "zg-pj\n",
    "pj-he\n",
    "RW-he\n",
    "fs-DX\n",
    "pj-RW\n",
    "zg-RW\n",
    "start-pj\n",
    "he-WI\n",
    "zg-he\n",
    "pj-fs\n",
    "start-RW\"\"\""
   ]
  },
  {
   "cell_type": "markdown",
   "metadata": {},
   "source": [
    "## Parse data"
   ]
  },
  {
   "cell_type": "code",
   "execution_count": 25,
   "metadata": {},
   "outputs": [],
   "source": [
    "from timeit import default_timer as timer\n",
    "\n",
    "def parseData(data):\n",
    "    start = timer()\n",
    "    lines = data.splitlines()\n",
    "    network = {}\n",
    "    for line in lines:\n",
    "        network = addPath(line, network)\n",
    "    end = timer()\n",
    "    print(\"parse time: \"+\"{:10.7f}\".format(end-start))\n",
    "    return network\n",
    "\n",
    "def addPath(line, network):\n",
    "    nodes = line.split('-')\n",
    "    for node in nodes:\n",
    "        if node not in network.keys():\n",
    "            network[node] = []\n",
    "    network[nodes[0]].append(nodes[1])\n",
    "    network[nodes[1]].append(nodes[0])\n",
    "    return network"
   ]
  },
  {
   "cell_type": "markdown",
   "metadata": {},
   "source": [
    "## Part 1"
   ]
  },
  {
   "cell_type": "code",
   "execution_count": 50,
   "metadata": {},
   "outputs": [],
   "source": [
    "def distinctPaths(data):\n",
    "    network = parseData(data)#\n",
    "    start = timer()\n",
    "    paths = findPathsToEnd(network,'start',[])\n",
    "    totalPaths = len(paths)\n",
    "    end = timer()\n",
    "    print(\"run time: \"+\"{:10.7f}\".format(end-start))\n",
    "    print(totalPaths)\n",
    "    \n",
    "def findPathsToEnd(network, node, path):\n",
    "    path.append(node)\n",
    "    if(node == 'end'):\n",
    "        return [path]\n",
    "    nextSteps = network[node]\n",
    "    paths = []\n",
    "    for nextNode in nextSteps:\n",
    "        if(nextNode.isupper() or (nextNode not in path)):\n",
    "            paths += findPathsToEnd(network, nextNode, path.copy())\n",
    "    return paths"
   ]
  },
  {
   "cell_type": "code",
   "execution_count": 57,
   "metadata": {},
   "outputs": [
    {
     "name": "stdout",
     "output_type": "stream",
     "text": [
      "parse time:  0.0000139\n",
      "run time:  0.0000287\n",
      "10\n"
     ]
    }
   ],
   "source": [
    "distinctPaths(testData1)"
   ]
  },
  {
   "cell_type": "code",
   "execution_count": 58,
   "metadata": {},
   "outputs": [
    {
     "name": "stdout",
     "output_type": "stream",
     "text": [
      "parse time:  0.0000183\n",
      "run time:  0.0000523\n",
      "19\n"
     ]
    }
   ],
   "source": [
    "distinctPaths(testData2)"
   ]
  },
  {
   "cell_type": "code",
   "execution_count": 59,
   "metadata": {},
   "outputs": [
    {
     "name": "stdout",
     "output_type": "stream",
     "text": [
      "parse time:  0.0000300\n",
      "run time:  0.0013484\n",
      "226\n"
     ]
    }
   ],
   "source": [
    "distinctPaths(testData3)"
   ]
  },
  {
   "cell_type": "code",
   "execution_count": 61,
   "metadata": {},
   "outputs": [
    {
     "name": "stdout",
     "output_type": "stream",
     "text": [
      "parse time:  0.0000371\n",
      "run time:  0.0721894\n",
      "3230\n"
     ]
    }
   ],
   "source": [
    "distinctPaths(puzzleData)"
   ]
  },
  {
   "cell_type": "markdown",
   "metadata": {},
   "source": [
    "## Part 2\n",
    "\n",
    "Now we may include one other lowercase, as long as it's not start or end"
   ]
  },
  {
   "cell_type": "code",
   "execution_count": 86,
   "metadata": {},
   "outputs": [],
   "source": [
    "def distinctPaths_v2(data):\n",
    "    network = parseData(data)\n",
    "    start = timer()\n",
    "    paths = findPathsToEnd_v2(network,'start',[])\n",
    "    totalPaths = len(paths)\n",
    "    end = timer()\n",
    "    print(\"run time: \"+\"{:10.7f}\".format(end-start))\n",
    "    print(totalPaths)\n",
    "    \n",
    "def findPathsToEnd_v2(network, node, path):\n",
    "    path.append(node)\n",
    "    if(node == 'end'):\n",
    "        return [path]\n",
    "    nextSteps = [cave for cave in network[node] if (cave != 'start')]\n",
    "    paths = []\n",
    "    for nextNode in nextSteps:\n",
    "        if (nextNode.isupper() or \n",
    "            ((not hasSmallDouble(path)) or nextNode not in path)):\n",
    "            paths += findPathsToEnd_v2(network, nextNode, path.copy())\n",
    "    return paths\n",
    "\n",
    "def hasSmallDouble(path):\n",
    "    smallCaves = []\n",
    "    for cave in path:\n",
    "        if cave.islower():\n",
    "            if cave not in smallCaves:\n",
    "                smallCaves.append(cave)\n",
    "            else:\n",
    "                return True\n",
    "    return False"
   ]
  },
  {
   "cell_type": "code",
   "execution_count": 87,
   "metadata": {},
   "outputs": [
    {
     "name": "stdout",
     "output_type": "stream",
     "text": [
      "parse time:  0.0000278\n",
      "run time:  0.0004352\n",
      "36\n"
     ]
    }
   ],
   "source": [
    "distinctPaths_v2(testData1)"
   ]
  },
  {
   "cell_type": "code",
   "execution_count": 88,
   "metadata": {},
   "outputs": [
    {
     "name": "stdout",
     "output_type": "stream",
     "text": [
      "parse time:  0.0000249\n",
      "run time:  0.0009861\n",
      "103\n"
     ]
    }
   ],
   "source": [
    "distinctPaths_v2(testData2)"
   ]
  },
  {
   "cell_type": "code",
   "execution_count": 89,
   "metadata": {},
   "outputs": [
    {
     "name": "stdout",
     "output_type": "stream",
     "text": [
      "parse time:  0.0000392\n",
      "run time:  0.2367309\n",
      "3509\n"
     ]
    }
   ],
   "source": [
    "distinctPaths_v2(testData3)"
   ]
  },
  {
   "cell_type": "code",
   "execution_count": 90,
   "metadata": {},
   "outputs": [
    {
     "name": "stdout",
     "output_type": "stream",
     "text": [
      "parse time:  0.0000817\n",
      "run time:  5.9727943\n",
      "83475\n"
     ]
    }
   ],
   "source": [
    "distinctPaths_v2(puzzleData)"
   ]
  },
  {
   "cell_type": "code",
   "execution_count": null,
   "metadata": {},
   "outputs": [],
   "source": []
  }
 ],
 "metadata": {
  "kernelspec": {
   "display_name": "Python 3",
   "language": "python",
   "name": "python3"
  },
  "language_info": {
   "codemirror_mode": {
    "name": "ipython",
    "version": 3
   },
   "file_extension": ".py",
   "mimetype": "text/x-python",
   "name": "python",
   "nbconvert_exporter": "python",
   "pygments_lexer": "ipython3",
   "version": "3.7.2"
  }
 },
 "nbformat": 4,
 "nbformat_minor": 4
}
